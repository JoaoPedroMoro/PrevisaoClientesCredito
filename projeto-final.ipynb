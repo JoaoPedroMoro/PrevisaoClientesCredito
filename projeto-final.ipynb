{
 "cells": [
  {
   "cell_type": "markdown",
   "metadata": {},
   "source": [
    "# Projeto Final\n",
    "# João Pedro Moro Bolognini"
   ]
  },
  {
   "cell_type": "markdown",
   "metadata": {},
   "source": [
    "---\n",
    "### Criando um modelo de previsão de futuros novos clientes de empréstimo com base em uma série de atributos, para saber se vão honrar seus compromissos futuramente ou não."
   ]
  },
  {
   "cell_type": "markdown",
   "metadata": {},
   "source": [
    "Importação das bibliotecas utilizadas"
   ]
  },
  {
   "cell_type": "code",
   "execution_count": 173,
   "metadata": {},
   "outputs": [],
   "source": [
    "import psycopg2  # Para conexão com o servidor de banco de dados\n",
    "import pandas as pd\n",
    "import numpy as np\n",
    "import statistics as sts\n",
    "import seaborn as srn\n",
    "import matplotlib.pyplot as plt\n",
    "from sklearn.ensemble import ExtraTreesClassifier\n",
    "from sklearn.model_selection import train_test_split\n",
    "from sklearn.svm import SVC\n",
    "from sklearn.metrics import confusion_matrix, accuracy_score\n",
    "from sklearn.naive_bayes import GaussianNB\n",
    "from sklearn.neighbors import KNeighborsClassifier"
   ]
  },
  {
   "cell_type": "markdown",
   "metadata": {},
   "source": [
    "Fazendo a conexão com um banco de dados PostgreSQL"
   ]
  },
  {
   "cell_type": "code",
   "execution_count": 179,
   "metadata": {},
   "outputs": [
    {
     "name": "stdout",
     "output_type": "stream",
     "text": [
      "['idcliente', 'cliente', 'estado', 'sexo']\n",
      "(1, 'Adelina Buenaventura', 'RJ', 'M')\n",
      "(2, 'Adelino Gago', 'RJ', 'M')\n",
      "(3, 'Adélio Lisboa', 'SE', 'M')\n",
      "(4, 'Adérito Bahía', 'MA', 'M')\n",
      "(5, 'Adolfo Patrício', 'PE', 'M')\n",
      "(6, 'Adriana Guedelha', 'RO', 'F')\n",
      "(7, 'Aida Dorneles', 'RN', 'F')\n",
      "(8, 'Alarico Quinterno', 'AC', 'M')\n",
      "(9, 'Alberto Cezimbra', 'AM', 'M')\n",
      "(10, 'Alberto Monsanto', 'RN', 'M')\n",
      "(11, 'Albino Canela', 'AC', 'M')\n",
      "(12, 'Alceste Varanda', 'RR', 'F')\n",
      "(13, 'Alcides Carvalhais', 'RO', 'M')\n",
      "(14, 'Aldo Martins', 'GO', 'M')\n",
      "(15, 'Alexandra Tabares', 'MG', 'F')\n",
      "(16, 'Alfredo Cotrim', 'SC', 'M')\n",
      "(17, 'Almeno Figueira', 'SC', 'M')\n",
      "(18, 'Alvito Peralta', 'AM', 'M')\n",
      "(19, 'Amadeu Martinho', 'RN', 'M')\n",
      "(20, 'Amélia Estévez', 'PE', 'F')\n",
      "(21, 'Ana Homem', 'RN', 'F')\n",
      "(22, 'Ana Peseiro', 'PA', 'F')\n",
      "(23, 'Anacleto Garrau', 'TO', 'M')\n",
      "(24, 'Anacleto Guterres', 'PI', 'M')\n",
      "(25, 'Andreia Carvalhal', 'SP', 'F')\n",
      "(26, 'Aníbal Bastos', 'CE', 'M')\n",
      "(27, 'Anita Beserra', 'PE', 'F')\n",
      "(28, 'Anna Beça', 'AP', 'F')\n",
      "(29, 'Anna Carvajal', 'RS', 'F')\n",
      "(30, 'Anselmo Dinis', 'PA', 'M')\n",
      "(31, 'Antão Corte-Real', 'ES', 'M')\n",
      "(32, 'Antero Milheiro', 'AP', 'M')\n",
      "(33, 'Antónia Canhão', 'SC', 'F')\n",
      "(34, 'Antônio Leiria', 'AL', 'M')\n",
      "(35, 'António Lousado', 'RS', 'M')\n",
      "(36, 'Antônio Sobral', 'AC', 'M')\n",
      "(37, 'Apuã Ourique', 'AL', 'M')\n",
      "(38, 'Arachane Matos', 'MA', 'F')\n",
      "(39, 'Arcidres Murici', 'TO', 'M')\n",
      "(40, 'Armindo Castilhos', 'RR', 'M')\n",
      "(41, 'Armindo Moreira', 'ES', 'M')\n",
      "(42, 'Artur Macedo', 'SE', 'M')\n",
      "(43, 'Artur Peña', 'RJ', 'M')\n",
      "(44, 'Aurélio Barrios', 'PI', 'M')\n",
      "(45, 'Bárbara Magalhães', 'MG', 'F')\n",
      "(46, 'Bartolomeu Vila-Chã', 'TO', 'M')\n",
      "(47, 'Basilio Soares', 'AC', 'M')\n",
      "(48, 'Belmira Colaço', 'RJ', 'F')\n",
      "(49, 'Belmiro Marroquim', 'SC', 'M')\n",
      "(50, 'Bento Quintão', 'SP', 'M')\n",
      "(51, 'Berengária Iglesias', 'BA', 'F')\n",
      "(52, 'Bernardete Águeda', 'TO', 'F')\n",
      "(53, 'Bernardete Querino', 'PI', 'F')\n",
      "(54, 'Bernardete Tavera', 'ES', 'F')\n",
      "(55, 'Bráulio Junquera', 'PB', 'M')\n",
      "(56, 'Brenda Serralheiro', 'PA', 'F')\n",
      "(57, 'Brígida Gusmão', 'DF', 'F')\n",
      "(58, 'Brites Morales', 'SC', 'F')\n",
      "(59, 'Bruno Perdigão', 'MS', 'M')\n",
      "(60, 'Bukake Núñez', 'SC', 'F')\n",
      "(61, 'Caím Queiroga', 'PA', 'M')\n",
      "(62, 'Calisto Britto', 'RN', 'M')\n",
      "(63, 'Cândida Silvestre', 'MG', 'F')\n",
      "(64, 'Cândido Sousa do Prado', 'PR', 'M')\n",
      "(65, 'Capitolina Ruela', 'PI', 'F')\n",
      "(66, 'Capitolina Valadares', 'GO', 'F')\n",
      "(67, 'Carla Briones', 'AC', 'F')\n",
      "(68, 'Carlos Murici', 'MG', 'M')\n",
      "(69, 'Carmem Reino', 'CE', 'F')\n",
      "(70, 'Carminda Alcaide', 'RO', 'F')\n",
      "(71, 'Carminda Dias', 'AM', 'F')\n",
      "(72, 'Cássia Guerra', 'MG', 'F')\n",
      "(73, 'Cássia Queiroz', 'AM', 'F')\n",
      "(74, 'Cássio Bettencourt', 'BA', 'M')\n",
      "(75, 'Catarina Bairros', 'PA', 'F')\n",
      "(76, 'Catarina Montero', 'PI', 'F')\n",
      "(77, 'Cauê Cotrim', 'PE', 'M')\n",
      "(78, 'Cauê Parahyba', 'PA', 'M')\n",
      "(79, 'Cecília Carlos', 'AP', 'F')\n",
      "(80, 'Celestino Pereira', 'RS', 'M')\n",
      "(81, 'Célia Meireles', 'CE', 'F')\n",
      "(82, 'Celina Vale', 'AL', 'F')\n",
      "(83, 'Cesário Raminhos', 'RR', 'M')\n",
      "(84, 'Cid Pardo', 'AL', 'M')\n",
      "(85, 'Cidália Miera', 'SE', 'F')\n",
      "(86, 'Cidália Ornelas', 'RS', 'F')\n",
      "(87, 'Cláudio Cotegipe', 'MT', 'M')\n",
      "(88, 'Cláudio Jorge', 'TO', 'M')\n",
      "(89, 'Cláudio Lopes', 'BA', 'M')\n",
      "(90, 'Clotilde Carvalhoso', 'BA', 'F')\n",
      "(91, 'Clóvis Pamplona', 'PB', 'M')\n",
      "(92, 'Constança Alcaide', 'GO', 'M')\n",
      "(93, 'Constantino Pedroso', 'AC', 'M')\n",
      "(94, 'Corina Dâmaso', 'CE', 'F')\n",
      "(95, 'Cosme Ipanema', 'PI', 'M')\n",
      "(96, 'Cosme Lira', 'PR', 'M')\n",
      "(97, 'Cosme Zambujal', 'BA', 'M')\n",
      "(98, 'Crispim Cordero', 'SC', 'M')\n",
      "(99, 'Crispim Macena', 'AP', 'M')\n",
      "(100, 'Cristiana Campello', 'RN', 'F')\n",
      "(101, 'Custódio Gonçalves', 'DF', 'M')\n",
      "(102, 'Custódio Rolim', 'ES', 'M')\n",
      "(103, 'David Brás', 'RJ', 'M')\n",
      "(104, 'David Carvalhais', 'RJ', 'M')\n",
      "(105, 'Davide Alcántara', 'MA', 'M')\n",
      "(106, 'Davide Fraga', 'SC', 'M')\n",
      "(107, 'Deise Farias', 'AM', 'F')\n",
      "(108, 'Deise Laureano', 'PI', 'F')\n",
      "(109, 'Deise Meneses', 'DF', 'F')\n",
      "(110, 'Délia Chousa', 'PB', 'F')\n",
      "(111, 'Délio Paranhos', 'BA', 'M')\n",
      "(112, 'Deolinda Castelbranco', 'RO', 'F')\n",
      "(113, 'Deolinda Castella', 'RJ', 'F')\n",
      "(114, 'Derli Lozada', 'RJ', 'F')\n",
      "(115, 'Diana Baptista', 'AM', 'F')\n",
      "(116, 'Dinarte Mangueira', 'DF', 'F')\n",
      "(117, 'Dinarte Marino', 'MS', 'F')\n",
      "(118, 'Dinarte Tabalipa', 'RS', 'F')\n",
      "(119, 'Dinarte Tabares', 'RR', 'F')\n",
      "(120, 'Diodete Carijó', 'PB', 'F')\n",
      "(121, 'Diodete Queiroga', 'GO', 'F')\n",
      "(122, 'Diogo Simón', 'BA', 'M')\n",
      "(123, 'Dionísio Saltão', 'PR', 'M')\n",
      "(124, 'Dora Galvão', 'MT', 'F')\n",
      "(125, 'Dora Rocha', 'DF', 'F')\n",
      "(126, 'Doroteia Quintanilla', 'RR', 'F')\n",
      "(127, 'Duarte Sampaio', 'RJ', 'M')\n",
      "(128, 'Dulce Prado', 'AC', 'F')\n",
      "(129, 'Dulce Tomé', 'CE', 'F')\n",
      "(130, 'Eduarda Borba', 'MA', 'F')\n",
      "(131, 'Eduarda Madureira', 'DF', 'F')\n",
      "(132, 'Eládio Froes', 'AM', 'M')\n",
      "(133, 'Eloi Meneses', 'CE', 'M')\n",
      "(134, 'Eloi Pereira', 'PA', 'M')\n",
      "(135, 'Eloi Vasques', 'RN', 'M')\n",
      "(136, 'Elsa Alencar', 'RJ', 'F')\n",
      "(137, 'Elsa Barreto', 'MA', 'F')\n",
      "(138, 'Elvira Açores', 'SC', 'F')\n",
      "(139, 'Ema Nieves', 'GO', 'F')\n",
      "(140, 'Emiliana Villalobos', 'RO', 'F')\n",
      "(141, 'Epaminondas Sousa de Arronches', 'MS', 'M')\n",
      "(142, 'Ermelinda Casquero', 'AM', 'F')\n",
      "(143, 'Estefânia Cyrne', 'RO', 'F')\n",
      "(144, 'Estela Mattos', 'PI', 'F')\n",
      "(145, 'Ester Castanho', 'AC', 'F')\n",
      "(146, 'Ester Dantas', 'SP', 'F')\n",
      "(147, 'Estêvão Simão', 'DF', 'M')\n",
      "(148, 'Eusébio Bairros', 'SP', 'M')\n",
      "(149, 'Eusébio Mata', 'PI', 'M')\n",
      "(150, 'Eusébio Pacheco', 'TO', 'M')\n",
      "(151, 'Eusébio Salomão', 'AC', 'M')\n",
      "(152, 'Evaristo Bahía', 'AC', 'M')\n",
      "(153, 'Fabiano Bethancout', 'PB', 'M')\n",
      "(154, 'Fabrício Varella', 'AM', 'M')\n",
      "(155, 'Fabrício Vidal', 'AL', 'M')\n",
      "(156, 'Faustino Maranhão', 'PI', 'M')\n",
      "(157, 'Fausto Miranda', 'AP', 'M')\n",
      "(158, 'Fausto Montenegro', 'SE', 'M')\n",
      "(159, 'Feliciana Silvera', 'AC', 'F')\n",
      "(160, 'Feliciano Franca', 'PA', 'M')\n",
      "(161, 'Felicidade Aldea', 'SE', 'F')\n",
      "(162, 'Filipa Mattozo', 'MA', 'F')\n",
      "(163, 'Filipe Lamego', 'AL', 'M')\n",
      "(164, 'Firmina Carrasco', 'TO', 'F')\n",
      "(165, 'Firmino Galván', 'MA', 'M')\n",
      "(166, 'Firmino Meireles', 'AM', 'M')\n",
      "(167, 'Firmino Puentes', 'PB', 'M')\n",
      "(168, 'Flamínia Miera', 'MT', 'F')\n",
      "(169, 'Flávia Camacho', 'BA', 'F')\n",
      "(170, 'Flávia Campos', 'RR', 'F')\n",
      "(171, 'Flor Ginjeira', 'ES', 'M')\n",
      "(172, 'Flor Vilanova', 'CE', 'M')\n",
      "(173, 'Florêncio Lameiras', 'PR', 'M')\n",
      "(174, 'Florêncio Vieira', 'PA', 'M')\n",
      "(175, 'Floriano Orriça', 'AP', 'M')\n",
      "(176, 'Floriano Siebra', 'MS', 'M')\n",
      "(177, 'Florinda Assunção', 'PI', 'F')\n",
      "(178, 'Francisca Ramallo', 'RJ', 'F')\n",
      "(179, 'Francisca Teodoro', 'SE', 'F')\n",
      "(180, 'Francisco Medina', 'PA', 'M')\n",
      "(181, 'Galindo Bettencourt', 'RN', 'M')\n",
      "(182, 'Garibaldo Oleiro', 'RO', 'M')\n",
      "(183, 'Gaudêncio Ipiranga', 'RR', 'M')\n",
      "(184, 'Germana Conde', 'AM', 'F')\n",
      "(185, 'Gertrudes Hidalgo', 'PA', 'F')\n",
      "(186, 'Gertrudes Infante', 'RS', 'F')\n",
      "(187, 'Gertrudes Rabello', 'SC', 'F')\n",
      "(188, 'Gilberto Moutinho', 'PB', 'M')\n",
      "(189, 'Gilda Parente', 'RR', 'F')\n",
      "(190, 'Ginéculo Luz', 'RJ', 'M')\n",
      "(191, 'Gisela Bahia', 'SP', 'F')\n",
      "(192, 'Gisela Candeias', 'SC', 'F')\n",
      "(193, 'Gláuber Guedella', 'RS', 'M')\n",
      "(194, 'Gláucia Canela', 'RO', 'F')\n",
      "(195, 'Godinho ou Godim Fogaça', 'RN', 'M')\n",
      "(196, 'Godinho ou Godim Jácome', 'RN', 'M')\n",
      "(197, 'Godofredo Mascareñas', 'SP', 'M')\n",
      "(198, 'Godofredo Quiroga', 'BA', 'M')\n",
      "(199, 'Gomes Hurtado', 'AC', 'M')\n",
      "(200, 'Gonçalo Figueiró', 'PI', 'M')\n",
      "(201, 'Graça Tabosa', 'RN', 'F')\n",
      "(202, 'Greice Lameirinhas', 'PI', 'F')\n",
      "(203, 'Guadalupe Rodrigues', 'SC', 'F')\n",
      "(204, 'Guadalupe Telinhos', 'AL', 'F')\n",
      "(205, 'Guaraci Imbassaí', 'PB', 'F')\n",
      "(206, 'Gueda Cartaxo', 'MS', 'F')\n",
      "(207, 'Gueda Laureano', 'BA', 'F')\n",
      "(208, 'Guida Beiriz', 'AP', 'F')\n",
      "(209, 'Guilhermina Hurtado', 'PA', 'F')\n",
      "(210, 'Guilhermina Vilaça', 'BA', 'F')\n",
      "(211, 'Hedviges Lessa', 'MG', 'F')\n",
      "(212, 'Hélder Brión', 'PB', 'M')\n",
      "(213, 'Hélder Valentín', 'AL', 'M')\n",
      "(214, 'Heloísa Cayubi', 'MS', 'F')\n",
      "(215, 'Herberto Castro', 'MA', 'M')\n",
      "(216, 'Herberto Pari', 'BA', 'M')\n",
      "(217, 'Herculano Viveiros', 'RN', 'M')\n",
      "(218, 'Hermano Diegues', 'ES', 'M')\n",
      "(219, 'Hermígio Cezar', 'SP', 'M')\n",
      "(220, 'Hermígio Villaverde', 'MA', 'M')\n",
      "(221, 'Honorina Camarinho', 'PR', 'F')\n",
      "(222, 'Honorina Villaverde', 'PE', 'F')\n",
      "(223, 'Honório Mafra', 'RR', 'M')\n",
      "(224, 'Horácio Pires', 'MG', 'M')\n",
      "(225, 'Hugo Covilhã', 'CE', 'M')\n",
      "(226, 'Humberto Almeida', 'AC', 'M')\n",
      "(227, 'Humberto Lemes', 'BA', 'M')\n",
      "(228, 'Humberto Morgado', 'SP', 'M')\n",
      "(229, 'Humberto Vergueiro', 'MG', 'M')\n",
      "(230, 'Ibijara Botelho', 'RR', 'F')\n",
      "(231, 'Ifigénia Lustosa', 'PE', 'F')\n",
      "(232, 'Ifigénia Pires', 'PA', 'F')\n",
      "(233, 'Ilduara Chávez', 'MT', 'F')\n",
      "(234, 'Inês Neres', 'CE', 'F')\n",
      "(235, 'Ingrit Mayor', 'SC', 'M')\n",
      "(236, 'Iolanda Rabello', 'PB', 'F')\n",
      "(237, 'Iracema Rodríguez', 'BA', 'F')\n",
      "(238, 'Iraci Alcoforado', 'MS', 'F')\n",
      "(239, 'Irani Jaguariúna', 'AM', 'F')\n",
      "(240, 'Irene Meireles', 'MS', 'F')\n",
      "(241, 'Irene Villanueva', 'AC', 'F')\n",
      "(242, 'Isabel Meirelles', 'RO', 'F')\n",
      "(243, 'Israel Canela', 'RN', 'M')\n",
      "(244, 'Iuri Guterres', 'GO', 'M')\n",
      "(245, 'Jacinto Dorneles', 'MG', 'M')\n",
      "(246, 'Jandaíra Albuquerque', 'SP', 'F')\n",
      "(247, 'Joana Ataí', 'GO', 'F')\n",
      "(248, 'Joaquim Hurtado', 'AP', 'M')\n",
      "(249, 'Joaquim Mieiro', 'TO', 'M')\n",
      "(250, 'Joaquina Vasconcelos', 'SC', 'F')\n"
     ]
    }
   ],
   "source": [
    "conn = psycopg2.connect(\n",
    "    dbname=\"ProjetoCCD\",\n",
    "    user=\"postgres\",\n",
    "    password=\"admin\",\n",
    "    host=\"localhost\",\n",
    "    port=\"5432\"\n",
    ")\n",
    "\n",
    "\n",
    "cursor = conn.cursor()\n",
    "consulta = 'SELECT * FROM \"CLIENTES\"'  # Criando uma consulta para testar a conexão com o banco de dados\n",
    "cursor.execute(consulta)\n",
    "\n",
    "# Recuperar os nomes das colunas\n",
    "nomes_colunas = [desc[0] for desc in cursor.description]\n",
    "\n",
    "# Recuperar os resultados\n",
    "resultados = cursor.fetchall()\n",
    "\n",
    "print(nomes_colunas)\n",
    "for row in resultados:\n",
    "    print(row)\n",
    "    "
   ]
  },
  {
   "cell_type": "markdown",
   "metadata": {},
   "source": [
    "Criando dataframes para todas as tabelas do banco de dados"
   ]
  },
  {
   "cell_type": "code",
   "execution_count": 17,
   "metadata": {},
   "outputs": [
    {
     "name": "stdout",
     "output_type": "stream",
     "text": [
      "DataFrame para a tabela CLIENTES:\n",
      "     idcliente               cliente estado sexo\n",
      "0            1  Adelina Buenaventura     RJ    M\n",
      "1            2          Adelino Gago     RJ    M\n",
      "2            3         Adélio Lisboa     SE    M\n",
      "3            4         Adérito Bahía     MA    M\n",
      "4            5       Adolfo Patrício     PE    M\n",
      "..         ...                   ...    ...  ...\n",
      "245        246  Jandaíra Albuquerque     SP    F\n",
      "246        247            Joana Ataí     GO    F\n",
      "247        248       Joaquim Hurtado     AP    M\n",
      "248        249        Joaquim Mieiro     TO    M\n",
      "249        250  Joaquina Vasconcelos     SC    F\n",
      "\n",
      "[250 rows x 4 columns]\n",
      "DataFrame para a tabela CREDITO:\n",
      "     IDCREDITO  Duracao  HistoricoCredito  Proposito  Valor  Investimentos  \\\n",
      "0            2       48                 2          1   5951              2   \n",
      "1            3       12                 1          2   2096              2   \n",
      "2            4       42                 2          3   7882              2   \n",
      "3            5       24                 3          4   4870              2   \n",
      "4            6       36                 2          2   9055              1   \n",
      "..         ...      ...               ...        ...    ...            ...   \n",
      "995        505       24                 2          4   1207              2   \n",
      "996        834       24                 2          1   5084              1   \n",
      "997        234       18                 0          1    866              2   \n",
      "998        474        6                 0         10   1238              1   \n",
      "999        565       24                 0          6   4712              1   \n",
      "\n",
      "     Emprego  TempoParcelamento  EstadoCivil  FiadorTerceiros  \\\n",
      "0        3.0                  2            1                3   \n",
      "1        4.0                  2            4                3   \n",
      "2        4.0                  2            4                4   \n",
      "3        3.0                  3            4                3   \n",
      "4        3.0                  2            4                3   \n",
      "..       ...                ...          ...              ...   \n",
      "995      1.0                  4            1                3   \n",
      "996      2.0                  2            1                3   \n",
      "997      3.0                  4            3                4   \n",
      "998      5.0                  4            4                3   \n",
      "999      3.0                  4            4                3   \n",
      "\n",
      "     ResidenciaDesde  Idade  OutrosFinanciamentos  Habitacao  \\\n",
      "0                2.0     22                     3        1.0   \n",
      "1                3.0     49                     3        1.0   \n",
      "2                4.0     45                     3        2.0   \n",
      "3                4.0     53                     3        2.0   \n",
      "4                4.0     35                     3        2.0   \n",
      "..               ...    ...                   ...        ...   \n",
      "995              4.0     24                     3        3.0   \n",
      "996              4.0     42                     3        1.0   \n",
      "997              2.0     25                     3        1.0   \n",
      "998              4.0     36                     3        1.0   \n",
      "999              2.0     37                     1        1.0   \n",
      "\n",
      "     EmprestimoExistente  Profissao  Dependentes  SocioEmpresa  Estrangeiro  \\\n",
      "0                      1          4            1             0            0   \n",
      "1                      1          3            2             0            0   \n",
      "2                      1          4            2             0            0   \n",
      "3                      2          4            2             0            0   \n",
      "4                      1          3            2             1            0   \n",
      "..                   ...        ...          ...           ...          ...   \n",
      "995                    1        999            1             0            0   \n",
      "996                    1        999            1             1            0   \n",
      "997                    1          3            1             0            0   \n",
      "998                    1          1            2             1            0   \n",
      "999                    2          1            1             1            0   \n",
      "\n",
      "     Status  \n",
      "0         0  \n",
      "1         1  \n",
      "2         1  \n",
      "3         0  \n",
      "4         1  \n",
      "..      ...  \n",
      "995       0  \n",
      "996       1  \n",
      "997       1  \n",
      "998       1  \n",
      "999       1  \n",
      "\n",
      "[1000 rows x 20 columns]\n",
      "DataFrame para a tabela EMPREGO:\n",
      "   IDEMPREGO       EMPREGO\n",
      "0          1            <1\n",
      "1          2           >=7\n",
      "2          3        1<=X<4\n",
      "3          4        4<=X<7\n",
      "4          5  Desempregado\n",
      "DataFrame para a tabela ESTADOCIVIL:\n",
      "   IDESTADOCIVIL           ESTADOCIVIL\n",
      "0              1  feminino div/dep/cas\n",
      "1              2      maculino div/dep\n",
      "2              3     masculino cas/viu\n",
      "3              4    masculino solteiro\n",
      "DataFrame para a tabela FIADOR:\n",
      "   IDFIADOR         FIADOR\n",
      "0         1   co aplicante\n",
      "1         2  co requerente\n",
      "2         3            nao\n",
      "3         4            sim\n",
      "DataFrame para a tabela HABITACAO:\n",
      "   IDHABITACAO HABITACAO\n",
      "0            1    proria\n",
      "1            2  de graca\n",
      "2            3   alugada\n",
      "DataFrame para a tabela HISTORICO_CREDITO:\n",
      "   IDHISTCRED                 HISTORICO\n",
      "0           1   Critico-outros creditos\n",
      "1           2          existentes/pagos\n",
      "2           3        Atrasos anteriores\n",
      "3           4  sem creditos/todos pagos\n",
      "4           5               todos pagos\n",
      "DataFrame para a tabela INVESTIMENTOS:\n",
      "   IDINVESTIMENTOS   INVESTIMENTOS\n",
      "0                1  Desconhecido\\n\n",
      "1                2          <100\\n\n",
      "2                3     500<=X<1000\n",
      "3                4          >=1000\n",
      "4                5      100<=X<500\n",
      "DataFrame para a tabela OUTROSFINANC:\n",
      "   IDOUTROSFINANC OUTROSFINANCIAMENTOS\n",
      "0               1                banco\n",
      "1               2                 loja\n",
      "2               3               nenhum\n",
      "DataFrame para a tabela PROFISSAO:\n",
      "   IDPROFISSAO                         PROFISSAO\n",
      "0            1  altamente qualificado/empresario\n",
      "1            2                      desempregado\n",
      "2            3                   nao qualificado\n",
      "3            4                       qualificado\n",
      "DataFrame para a tabela PROPOSITO:\n",
      "   IDPROPOSITO      PROPOSITO\n",
      "0            1        reforma\n",
      "1            2       educacao\n",
      "2            3         moveis\n",
      "3            4   veiculo novo\n",
      "4            5  veiculo usado\n",
      "5            6  abrir negocio\n",
      "6            7  quitar divida\n",
      "7            8   reforma casa\n",
      "8            9         outros\n",
      "9           10   qualificacao\n"
     ]
    }
   ],
   "source": [
    "# Consulta para obter o nome de todas as tabelas no esquema público\n",
    "consulta_tabelas = \"\"\"\n",
    "    SELECT table_name\n",
    "    FROM information_schema.tables\n",
    "    WHERE table_schema = 'public' AND table_type = 'BASE TABLE'\n",
    "\"\"\"\n",
    "\n",
    "# Executar a consulta para obter o nome de todas as tabelas\n",
    "cursor.execute(consulta_tabelas)\n",
    "\n",
    "# Recuperar os nomes das tabelas\n",
    "tabelas = cursor.fetchall()\n",
    "\n",
    "# Para cada tabela, exportar para um DataFrame\n",
    "for tabela in tabelas:\n",
    "    nome_tabela = tabela[0]\n",
    "    consulta = f'SELECT * FROM \"{nome_tabela}\"'\n",
    "    \n",
    "    # Executar a consulta para obter os dados da tabela\n",
    "    cursor.execute(consulta)\n",
    "    \n",
    "    # Recuperar os resultados da consulta\n",
    "    resultados = cursor.fetchall()\n",
    "    \n",
    "    # Recuperar os nomes das colunas\n",
    "    nomes_colunas = [desc[0] for desc in cursor.description]\n",
    "    \n",
    "    # Criar um DataFrame a partir dos resultados da consulta\n",
    "    df = pd.DataFrame(resultados, columns=nomes_colunas)\n",
    "    \n",
    "    # Exibir o DataFrame (opcional)\n",
    "    print(f'DataFrame para a tabela {nome_tabela}:')\n",
    "    print(df)\n",
    "    \n",
    "    # Salvar o DataFrame em um arquivo CSV (opcional)\n",
    "    df.to_csv(f'{nome_tabela}.csv', index=False)"
   ]
  },
  {
   "cell_type": "markdown",
   "metadata": {},
   "source": [
    "Para realizar a predição de crédito, é necessário a tabela crédito, com a coluna status.\n",
    "Se o status for igual a 1, o cliente vai honrar o compromisso de empréstimo, caso contrário, não irá."
   ]
  },
  {
   "cell_type": "code",
   "execution_count": 22,
   "metadata": {},
   "outputs": [
    {
     "data": {
      "text/html": [
       "<div>\n",
       "<style scoped>\n",
       "    .dataframe tbody tr th:only-of-type {\n",
       "        vertical-align: middle;\n",
       "    }\n",
       "\n",
       "    .dataframe tbody tr th {\n",
       "        vertical-align: top;\n",
       "    }\n",
       "\n",
       "    .dataframe thead th {\n",
       "        text-align: right;\n",
       "    }\n",
       "</style>\n",
       "<table border=\"1\" class=\"dataframe\">\n",
       "  <thead>\n",
       "    <tr style=\"text-align: right;\">\n",
       "      <th></th>\n",
       "      <th>IDCREDITO</th>\n",
       "      <th>Duracao</th>\n",
       "      <th>HistoricoCredito</th>\n",
       "      <th>Proposito</th>\n",
       "      <th>Valor</th>\n",
       "      <th>Investimentos</th>\n",
       "      <th>Emprego</th>\n",
       "      <th>TempoParcelamento</th>\n",
       "      <th>EstadoCivil</th>\n",
       "      <th>FiadorTerceiros</th>\n",
       "      <th>ResidenciaDesde</th>\n",
       "      <th>Idade</th>\n",
       "      <th>OutrosFinanciamentos</th>\n",
       "      <th>Habitacao</th>\n",
       "      <th>EmprestimoExistente</th>\n",
       "      <th>Profissao</th>\n",
       "      <th>Dependentes</th>\n",
       "      <th>SocioEmpresa</th>\n",
       "      <th>Estrangeiro</th>\n",
       "      <th>Status</th>\n",
       "    </tr>\n",
       "  </thead>\n",
       "  <tbody>\n",
       "    <tr>\n",
       "      <th>0</th>\n",
       "      <td>2</td>\n",
       "      <td>48</td>\n",
       "      <td>2</td>\n",
       "      <td>1</td>\n",
       "      <td>5951</td>\n",
       "      <td>2</td>\n",
       "      <td>3.0</td>\n",
       "      <td>2</td>\n",
       "      <td>1</td>\n",
       "      <td>3</td>\n",
       "      <td>2.0</td>\n",
       "      <td>22</td>\n",
       "      <td>3</td>\n",
       "      <td>1.0</td>\n",
       "      <td>1</td>\n",
       "      <td>4</td>\n",
       "      <td>1</td>\n",
       "      <td>0</td>\n",
       "      <td>0</td>\n",
       "      <td>0</td>\n",
       "    </tr>\n",
       "    <tr>\n",
       "      <th>1</th>\n",
       "      <td>3</td>\n",
       "      <td>12</td>\n",
       "      <td>1</td>\n",
       "      <td>2</td>\n",
       "      <td>2096</td>\n",
       "      <td>2</td>\n",
       "      <td>4.0</td>\n",
       "      <td>2</td>\n",
       "      <td>4</td>\n",
       "      <td>3</td>\n",
       "      <td>3.0</td>\n",
       "      <td>49</td>\n",
       "      <td>3</td>\n",
       "      <td>1.0</td>\n",
       "      <td>1</td>\n",
       "      <td>3</td>\n",
       "      <td>2</td>\n",
       "      <td>0</td>\n",
       "      <td>0</td>\n",
       "      <td>1</td>\n",
       "    </tr>\n",
       "    <tr>\n",
       "      <th>2</th>\n",
       "      <td>4</td>\n",
       "      <td>42</td>\n",
       "      <td>2</td>\n",
       "      <td>3</td>\n",
       "      <td>7882</td>\n",
       "      <td>2</td>\n",
       "      <td>4.0</td>\n",
       "      <td>2</td>\n",
       "      <td>4</td>\n",
       "      <td>4</td>\n",
       "      <td>4.0</td>\n",
       "      <td>45</td>\n",
       "      <td>3</td>\n",
       "      <td>2.0</td>\n",
       "      <td>1</td>\n",
       "      <td>4</td>\n",
       "      <td>2</td>\n",
       "      <td>0</td>\n",
       "      <td>0</td>\n",
       "      <td>1</td>\n",
       "    </tr>\n",
       "    <tr>\n",
       "      <th>3</th>\n",
       "      <td>5</td>\n",
       "      <td>24</td>\n",
       "      <td>3</td>\n",
       "      <td>4</td>\n",
       "      <td>4870</td>\n",
       "      <td>2</td>\n",
       "      <td>3.0</td>\n",
       "      <td>3</td>\n",
       "      <td>4</td>\n",
       "      <td>3</td>\n",
       "      <td>4.0</td>\n",
       "      <td>53</td>\n",
       "      <td>3</td>\n",
       "      <td>2.0</td>\n",
       "      <td>2</td>\n",
       "      <td>4</td>\n",
       "      <td>2</td>\n",
       "      <td>0</td>\n",
       "      <td>0</td>\n",
       "      <td>0</td>\n",
       "    </tr>\n",
       "    <tr>\n",
       "      <th>4</th>\n",
       "      <td>6</td>\n",
       "      <td>36</td>\n",
       "      <td>2</td>\n",
       "      <td>2</td>\n",
       "      <td>9055</td>\n",
       "      <td>1</td>\n",
       "      <td>3.0</td>\n",
       "      <td>2</td>\n",
       "      <td>4</td>\n",
       "      <td>3</td>\n",
       "      <td>4.0</td>\n",
       "      <td>35</td>\n",
       "      <td>3</td>\n",
       "      <td>2.0</td>\n",
       "      <td>1</td>\n",
       "      <td>3</td>\n",
       "      <td>2</td>\n",
       "      <td>1</td>\n",
       "      <td>0</td>\n",
       "      <td>1</td>\n",
       "    </tr>\n",
       "    <tr>\n",
       "      <th>...</th>\n",
       "      <td>...</td>\n",
       "      <td>...</td>\n",
       "      <td>...</td>\n",
       "      <td>...</td>\n",
       "      <td>...</td>\n",
       "      <td>...</td>\n",
       "      <td>...</td>\n",
       "      <td>...</td>\n",
       "      <td>...</td>\n",
       "      <td>...</td>\n",
       "      <td>...</td>\n",
       "      <td>...</td>\n",
       "      <td>...</td>\n",
       "      <td>...</td>\n",
       "      <td>...</td>\n",
       "      <td>...</td>\n",
       "      <td>...</td>\n",
       "      <td>...</td>\n",
       "      <td>...</td>\n",
       "      <td>...</td>\n",
       "    </tr>\n",
       "    <tr>\n",
       "      <th>995</th>\n",
       "      <td>505</td>\n",
       "      <td>24</td>\n",
       "      <td>2</td>\n",
       "      <td>4</td>\n",
       "      <td>1207</td>\n",
       "      <td>2</td>\n",
       "      <td>1.0</td>\n",
       "      <td>4</td>\n",
       "      <td>1</td>\n",
       "      <td>3</td>\n",
       "      <td>4.0</td>\n",
       "      <td>24</td>\n",
       "      <td>3</td>\n",
       "      <td>3.0</td>\n",
       "      <td>1</td>\n",
       "      <td>999</td>\n",
       "      <td>1</td>\n",
       "      <td>0</td>\n",
       "      <td>0</td>\n",
       "      <td>0</td>\n",
       "    </tr>\n",
       "    <tr>\n",
       "      <th>996</th>\n",
       "      <td>834</td>\n",
       "      <td>24</td>\n",
       "      <td>2</td>\n",
       "      <td>1</td>\n",
       "      <td>5084</td>\n",
       "      <td>1</td>\n",
       "      <td>2.0</td>\n",
       "      <td>2</td>\n",
       "      <td>1</td>\n",
       "      <td>3</td>\n",
       "      <td>4.0</td>\n",
       "      <td>42</td>\n",
       "      <td>3</td>\n",
       "      <td>1.0</td>\n",
       "      <td>1</td>\n",
       "      <td>999</td>\n",
       "      <td>1</td>\n",
       "      <td>1</td>\n",
       "      <td>0</td>\n",
       "      <td>1</td>\n",
       "    </tr>\n",
       "    <tr>\n",
       "      <th>997</th>\n",
       "      <td>234</td>\n",
       "      <td>18</td>\n",
       "      <td>0</td>\n",
       "      <td>1</td>\n",
       "      <td>866</td>\n",
       "      <td>2</td>\n",
       "      <td>3.0</td>\n",
       "      <td>4</td>\n",
       "      <td>3</td>\n",
       "      <td>4</td>\n",
       "      <td>2.0</td>\n",
       "      <td>25</td>\n",
       "      <td>3</td>\n",
       "      <td>1.0</td>\n",
       "      <td>1</td>\n",
       "      <td>3</td>\n",
       "      <td>1</td>\n",
       "      <td>0</td>\n",
       "      <td>0</td>\n",
       "      <td>1</td>\n",
       "    </tr>\n",
       "    <tr>\n",
       "      <th>998</th>\n",
       "      <td>474</td>\n",
       "      <td>6</td>\n",
       "      <td>0</td>\n",
       "      <td>10</td>\n",
       "      <td>1238</td>\n",
       "      <td>1</td>\n",
       "      <td>5.0</td>\n",
       "      <td>4</td>\n",
       "      <td>4</td>\n",
       "      <td>3</td>\n",
       "      <td>4.0</td>\n",
       "      <td>36</td>\n",
       "      <td>3</td>\n",
       "      <td>1.0</td>\n",
       "      <td>1</td>\n",
       "      <td>1</td>\n",
       "      <td>2</td>\n",
       "      <td>1</td>\n",
       "      <td>0</td>\n",
       "      <td>1</td>\n",
       "    </tr>\n",
       "    <tr>\n",
       "      <th>999</th>\n",
       "      <td>565</td>\n",
       "      <td>24</td>\n",
       "      <td>0</td>\n",
       "      <td>6</td>\n",
       "      <td>4712</td>\n",
       "      <td>1</td>\n",
       "      <td>3.0</td>\n",
       "      <td>4</td>\n",
       "      <td>4</td>\n",
       "      <td>3</td>\n",
       "      <td>2.0</td>\n",
       "      <td>37</td>\n",
       "      <td>1</td>\n",
       "      <td>1.0</td>\n",
       "      <td>2</td>\n",
       "      <td>1</td>\n",
       "      <td>1</td>\n",
       "      <td>1</td>\n",
       "      <td>0</td>\n",
       "      <td>1</td>\n",
       "    </tr>\n",
       "  </tbody>\n",
       "</table>\n",
       "<p>1000 rows × 20 columns</p>\n",
       "</div>"
      ],
      "text/plain": [
       "     IDCREDITO  Duracao  HistoricoCredito  Proposito  Valor  Investimentos  \\\n",
       "0            2       48                 2          1   5951              2   \n",
       "1            3       12                 1          2   2096              2   \n",
       "2            4       42                 2          3   7882              2   \n",
       "3            5       24                 3          4   4870              2   \n",
       "4            6       36                 2          2   9055              1   \n",
       "..         ...      ...               ...        ...    ...            ...   \n",
       "995        505       24                 2          4   1207              2   \n",
       "996        834       24                 2          1   5084              1   \n",
       "997        234       18                 0          1    866              2   \n",
       "998        474        6                 0         10   1238              1   \n",
       "999        565       24                 0          6   4712              1   \n",
       "\n",
       "     Emprego  TempoParcelamento  EstadoCivil  FiadorTerceiros  \\\n",
       "0        3.0                  2            1                3   \n",
       "1        4.0                  2            4                3   \n",
       "2        4.0                  2            4                4   \n",
       "3        3.0                  3            4                3   \n",
       "4        3.0                  2            4                3   \n",
       "..       ...                ...          ...              ...   \n",
       "995      1.0                  4            1                3   \n",
       "996      2.0                  2            1                3   \n",
       "997      3.0                  4            3                4   \n",
       "998      5.0                  4            4                3   \n",
       "999      3.0                  4            4                3   \n",
       "\n",
       "     ResidenciaDesde  Idade  OutrosFinanciamentos  Habitacao  \\\n",
       "0                2.0     22                     3        1.0   \n",
       "1                3.0     49                     3        1.0   \n",
       "2                4.0     45                     3        2.0   \n",
       "3                4.0     53                     3        2.0   \n",
       "4                4.0     35                     3        2.0   \n",
       "..               ...    ...                   ...        ...   \n",
       "995              4.0     24                     3        3.0   \n",
       "996              4.0     42                     3        1.0   \n",
       "997              2.0     25                     3        1.0   \n",
       "998              4.0     36                     3        1.0   \n",
       "999              2.0     37                     1        1.0   \n",
       "\n",
       "     EmprestimoExistente  Profissao  Dependentes  SocioEmpresa  Estrangeiro  \\\n",
       "0                      1          4            1             0            0   \n",
       "1                      1          3            2             0            0   \n",
       "2                      1          4            2             0            0   \n",
       "3                      2          4            2             0            0   \n",
       "4                      1          3            2             1            0   \n",
       "..                   ...        ...          ...           ...          ...   \n",
       "995                    1        999            1             0            0   \n",
       "996                    1        999            1             1            0   \n",
       "997                    1          3            1             0            0   \n",
       "998                    1          1            2             1            0   \n",
       "999                    2          1            1             1            0   \n",
       "\n",
       "     Status  \n",
       "0         0  \n",
       "1         1  \n",
       "2         1  \n",
       "3         0  \n",
       "4         1  \n",
       "..      ...  \n",
       "995       0  \n",
       "996       1  \n",
       "997       1  \n",
       "998       1  \n",
       "999       1  \n",
       "\n",
       "[1000 rows x 20 columns]"
      ]
     },
     "execution_count": 22,
     "metadata": {},
     "output_type": "execute_result"
    }
   ],
   "source": [
    "credito = pd.read_csv('CREDITO.csv', sep=\",\")\n",
    "credito"
   ]
  },
  {
   "cell_type": "markdown",
   "metadata": {},
   "source": [
    "---\n",
    "# Visualização dos dados"
   ]
  },
  {
   "cell_type": "markdown",
   "metadata": {},
   "source": [
    "### 1. Dados Numéricos"
   ]
  },
  {
   "cell_type": "markdown",
   "metadata": {},
   "source": [
    "Valor do empréstimo"
   ]
  },
  {
   "cell_type": "code",
   "execution_count": 42,
   "metadata": {},
   "outputs": [
    {
     "data": {
      "text/plain": [
       "count     1000.000000\n",
       "mean      3271.258000\n",
       "std       2822.736876\n",
       "min        250.000000\n",
       "25%       1365.500000\n",
       "50%       2319.500000\n",
       "75%       3972.250000\n",
       "max      18424.000000\n",
       "Name: Valor, dtype: float64"
      ]
     },
     "execution_count": 42,
     "metadata": {},
     "output_type": "execute_result"
    }
   ],
   "source": [
    "credito['Valor'].describe()"
   ]
  },
  {
   "cell_type": "code",
   "execution_count": 47,
   "metadata": {},
   "outputs": [
    {
     "data": {
      "text/plain": [
       "Text(0.5, 1.0, 'Valor')"
      ]
     },
     "execution_count": 47,
     "metadata": {},
     "output_type": "execute_result"
    },
    {
     "data": {
      "image/png": "[encoded data removed]",
      "text/plain": [
       "<Figure size 640x480 with 1 Axes>"
      ]
     },
     "metadata": {},
     "output_type": "display_data"
    }
   ],
   "source": [
    "srn.boxplot(credito['Valor']).set_title('Valor')"
   ]
  },
  {
   "cell_type": "code",
   "execution_count": 94,
   "metadata": {},
   "outputs": [
    {
     "data": {
      "text/plain": [
       "[Text(0.5, 1.0, 'Valor')]"
      ]
     },
     "execution_count": 94,
     "metadata": {},
     "output_type": "execute_result"
    },
    {
     "data": {
      "image/png": "[encoded data removed]",
      "text/plain": [
       "<Figure size 640x480 with 1 Axes>"
      ]
     },
     "metadata": {},
     "output_type": "display_data"
    }
   ],
   "source": [
    "srn.histplot(credito.Valor, kde=True, bins=20).set(title='Valor')"
   ]
  },
  {
   "cell_type": "markdown",
   "metadata": {},
   "source": [
    "Duração do empréstimo (em meses)"
   ]
  },
  {
   "cell_type": "code",
   "execution_count": 43,
   "metadata": {},
   "outputs": [
    {
     "data": {
      "text/plain": [
       "count    1000.000000\n",
       "mean       20.903000\n",
       "std        12.058814\n",
       "min         4.000000\n",
       "25%        12.000000\n",
       "50%        18.000000\n",
       "75%        24.000000\n",
       "max        72.000000\n",
       "Name: Duracao, dtype: float64"
      ]
     },
     "execution_count": 43,
     "metadata": {},
     "output_type": "execute_result"
    }
   ],
   "source": [
    "credito['Duracao'].describe()"
   ]
  },
  {
   "cell_type": "code",
   "execution_count": 48,
   "metadata": {},
   "outputs": [
    {
     "data": {
      "text/plain": [
       "Text(0.5, 1.0, 'Duracao')"
      ]
     },
     "execution_count": 48,
     "metadata": {},
     "output_type": "execute_result"
    },
    {
     "data": {
      "image/png": "[encoded data removed]",
      "text/plain": [
       "<Figure size 640x480 with 1 Axes>"
      ]
     },
     "metadata": {},
     "output_type": "display_data"
    }
   ],
   "source": [
    "srn.boxplot(credito['Duracao']).set_title('Duracao')"
   ]
  },
  {
   "cell_type": "code",
   "execution_count": 93,
   "metadata": {},
   "outputs": [
    {
     "data": {
      "text/plain": [
       "[Text(0.5, 1.0, 'Duracao')]"
      ]
     },
     "execution_count": 93,
     "metadata": {},
     "output_type": "execute_result"
    },
    {
     "data": {
      "image/png": "[encoded data removed]",
      "text/plain": [
       "<Figure size 640x480 with 1 Axes>"
      ]
     },
     "metadata": {},
     "output_type": "display_data"
    }
   ],
   "source": [
    "srn.histplot(credito.Duracao, kde=True, bins=24).set(title='Duracao')"
   ]
  },
  {
   "cell_type": "markdown",
   "metadata": {},
   "source": [
    "Idade do cliente"
   ]
  },
  {
   "cell_type": "code",
   "execution_count": 53,
   "metadata": {},
   "outputs": [
    {
     "data": {
      "text/plain": [
       "count    1000.000000\n",
       "mean       35.546000\n",
       "std        11.375469\n",
       "min        19.000000\n",
       "25%        27.000000\n",
       "50%        33.000000\n",
       "75%        42.000000\n",
       "max        75.000000\n",
       "Name: Idade, dtype: float64"
      ]
     },
     "execution_count": 53,
     "metadata": {},
     "output_type": "execute_result"
    }
   ],
   "source": [
    "credito['Idade'].describe()"
   ]
  },
  {
   "cell_type": "code",
   "execution_count": 49,
   "metadata": {},
   "outputs": [
    {
     "data": {
      "text/plain": [
       "Text(0.5, 1.0, 'Idade')"
      ]
     },
     "execution_count": 49,
     "metadata": {},
     "output_type": "execute_result"
    },
    {
     "data": {
      "image/png": "[encoded data removed]",
      "text/plain": [
       "<Figure size 640x480 with 1 Axes>"
      ]
     },
     "metadata": {},
     "output_type": "display_data"
    }
   ],
   "source": [
    "srn.boxplot(credito['Idade']).set_title('Idade')"
   ]
  },
  {
   "cell_type": "code",
   "execution_count": 92,
   "metadata": {},
   "outputs": [
    {
     "data": {
      "text/plain": [
       "[Text(0.5, 1.0, 'Idade')]"
      ]
     },
     "execution_count": 92,
     "metadata": {},
     "output_type": "execute_result"
    },
    {
     "data": {
      "image/png": "[encoded data removed]",
      "text/plain": [
       "<Figure size 640x480 with 1 Axes>"
      ]
     },
     "metadata": {},
     "output_type": "display_data"
    }
   ],
   "source": [
    "srn.histplot(credito.Idade, kde=True, bins=25).set(title='Idade')"
   ]
  },
  {
   "cell_type": "markdown",
   "metadata": {},
   "source": [
    "Tempo do parcelamento do empréstimo (em anos)"
   ]
  },
  {
   "cell_type": "code",
   "execution_count": 104,
   "metadata": {},
   "outputs": [
    {
     "data": {
      "image/png": "[encoded data removed]",
      "text/plain": [
       "<Figure size 640x480 with 1 Axes>"
      ]
     },
     "metadata": {},
     "output_type": "display_data"
    }
   ],
   "source": [
    "cont = credito['TempoParcelamento'].value_counts()\n",
    "cont = cont.sort_index()\n",
    "cont.plot(kind='bar')\n",
    "\n",
    "plt.xlabel('TempoParcelamento')\n",
    "plt.ylabel('Qtde')\n",
    "plt.title('TempoParcelamento')\n",
    "\n",
    "plt.show()"
   ]
  },
  {
   "cell_type": "markdown",
   "metadata": {},
   "source": [
    "Quantida de empréstimos que o cliente tem no momento"
   ]
  },
  {
   "cell_type": "code",
   "execution_count": 105,
   "metadata": {},
   "outputs": [
    {
     "data": {
      "image/png": "[encoded data removed]",
      "text/plain": [
       "<Figure size 640x480 with 1 Axes>"
      ]
     },
     "metadata": {},
     "output_type": "display_data"
    }
   ],
   "source": [
    "cont = credito['EmprestimoExistente'].value_counts()\n",
    "cont = cont.sort_index()\n",
    "cont.plot(kind='bar')\n",
    "\n",
    "plt.xlabel('EmprestimoExistente')\n",
    "plt.ylabel('Qtde')\n",
    "plt.title('EmprestimoExistente')\n",
    "\n",
    "plt.show()"
   ]
  },
  {
   "cell_type": "markdown",
   "metadata": {},
   "source": [
    "Quantidade de dependentes que cada cliente possui"
   ]
  },
  {
   "cell_type": "code",
   "execution_count": 106,
   "metadata": {},
   "outputs": [
    {
     "data": {
      "image/png": "[encoded data removed]",
      "text/plain": [
       "<Figure size 640x480 with 1 Axes>"
      ]
     },
     "metadata": {},
     "output_type": "display_data"
    }
   ],
   "source": [
    "cont = credito['Dependentes'].value_counts()\n",
    "cont = cont.sort_index()\n",
    "cont.plot(kind='bar')\n",
    "\n",
    "plt.xlabel('Dependentes')\n",
    "plt.ylabel('Qtde')\n",
    "plt.title('Dependentes')\n",
    "\n",
    "plt.show()"
   ]
  },
  {
   "cell_type": "markdown",
   "metadata": {},
   "source": [
    "SocioEmpresa - Verifica se o cliente é sócio de alguma empresa (1) ou não (0)"
   ]
  },
  {
   "cell_type": "code",
   "execution_count": 107,
   "metadata": {},
   "outputs": [
    {
     "data": {
      "image/png": "[encoded data removed]",
      "text/plain": [
       "<Figure size 640x480 with 1 Axes>"
      ]
     },
     "metadata": {},
     "output_type": "display_data"
    }
   ],
   "source": [
    "cont = credito['SocioEmpresa'].value_counts()\n",
    "cont = cont.sort_index()\n",
    "cont.plot(kind='bar')\n",
    "\n",
    "plt.xlabel('SocioEmpresa')\n",
    "plt.ylabel('Qtde')\n",
    "plt.title('SocioEmpresa')\n",
    "\n",
    "plt.show()"
   ]
  },
  {
   "cell_type": "markdown",
   "metadata": {},
   "source": [
    "Estrangeiro - Se o cliente é (1) ou não é (0) estrangeiro"
   ]
  },
  {
   "cell_type": "code",
   "execution_count": 108,
   "metadata": {},
   "outputs": [
    {
     "data": {
      "image/png": "[encoded data removed]",
      "text/plain": [
       "<Figure size 640x480 with 1 Axes>"
      ]
     },
     "metadata": {},
     "output_type": "display_data"
    }
   ],
   "source": [
    "cont = credito['Estrangeiro'].value_counts()\n",
    "cont = cont.sort_index()\n",
    "cont.plot(kind='bar')\n",
    "\n",
    "plt.xlabel('Estrangeiro')\n",
    "plt.ylabel('Qtde')\n",
    "plt.title('Estrangeiro')\n",
    "\n",
    "plt.show()"
   ]
  },
  {
   "cell_type": "markdown",
   "metadata": {},
   "source": [
    "Status - Se o cliente irá pagar (1) ou não (0) pelo empréstimo"
   ]
  },
  {
   "cell_type": "code",
   "execution_count": 109,
   "metadata": {},
   "outputs": [
    {
     "data": {
      "image/png": "[encoded data removed]",
      "text/plain": [
       "<Figure size 640x480 with 1 Axes>"
      ]
     },
     "metadata": {},
     "output_type": "display_data"
    }
   ],
   "source": [
    "cont = credito['Status'].value_counts()\n",
    "cont = cont.sort_index()\n",
    "cont.plot(kind='bar')\n",
    "\n",
    "plt.xlabel('Status')\n",
    "plt.ylabel('Qtde')\n",
    "plt.title('Status')\n",
    "\n",
    "plt.show()"
   ]
  },
  {
   "cell_type": "markdown",
   "metadata": {},
   "source": [
    "### 2. Dados Categóricos (Classes)"
   ]
  },
  {
   "cell_type": "markdown",
   "metadata": {},
   "source": [
    "Histórico de crédito possui classes de 1 a 5."
   ]
  },
  {
   "cell_type": "code",
   "execution_count": 55,
   "metadata": {},
   "outputs": [
    {
     "data": {
      "text/plain": [
       "HistoricoCredito\n",
       "0     11\n",
       "1    289\n",
       "2    526\n",
       "3     86\n",
       "4     40\n",
       "5     48\n",
       "dtype: int64"
      ]
     },
     "execution_count": 55,
     "metadata": {},
     "output_type": "execute_result"
    }
   ],
   "source": [
    "agrupado = credito.groupby(['HistoricoCredito']).size()\n",
    "agrupado"
   ]
  },
  {
   "cell_type": "code",
   "execution_count": 56,
   "metadata": {},
   "outputs": [
    {
     "data": {
      "text/plain": [
       "<Axes: xlabel='HistoricoCredito'>"
      ]
     },
     "execution_count": 56,
     "metadata": {},
     "output_type": "execute_result"
    },
    {
     "data": {
      "image/png": "[encoded data removed]",
      "text/plain": [
       "<Figure size 640x480 with 1 Axes>"
      ]
     },
     "metadata": {},
     "output_type": "display_data"
    }
   ],
   "source": [
    "agrupado.plot.bar(color = 'gray')"
   ]
  },
  {
   "cell_type": "markdown",
   "metadata": {},
   "source": [
    "Investimentos possui classes de 1 a 5."
   ]
  },
  {
   "cell_type": "code",
   "execution_count": 57,
   "metadata": {},
   "outputs": [
    {
     "data": {
      "text/plain": [
       "Investimentos\n",
       "1    183\n",
       "2    603\n",
       "3     63\n",
       "4     48\n",
       "5    103\n",
       "dtype: int64"
      ]
     },
     "execution_count": 57,
     "metadata": {},
     "output_type": "execute_result"
    }
   ],
   "source": [
    "agrupado = credito.groupby(['Investimentos']).size()\n",
    "agrupado"
   ]
  },
  {
   "cell_type": "code",
   "execution_count": 58,
   "metadata": {},
   "outputs": [
    {
     "data": {
      "text/plain": [
       "<Axes: xlabel='Investimentos'>"
      ]
     },
     "execution_count": 58,
     "metadata": {},
     "output_type": "execute_result"
    },
    {
     "data": {
      "image/png": "[encoded data removed]",
      "text/plain": [
       "<Figure size 640x480 with 1 Axes>"
      ]
     },
     "metadata": {},
     "output_type": "display_data"
    }
   ],
   "source": [
    "agrupado.plot.bar(color = 'gray')"
   ]
  },
  {
   "cell_type": "markdown",
   "metadata": {},
   "source": [
    "FiadorTerceiros possui classes de 1 a 4."
   ]
  },
  {
   "cell_type": "code",
   "execution_count": 59,
   "metadata": {},
   "outputs": [
    {
     "data": {
      "text/plain": [
       "FiadorTerceiros\n",
       "1      1\n",
       "2     39\n",
       "3    908\n",
       "4     52\n",
       "dtype: int64"
      ]
     },
     "execution_count": 59,
     "metadata": {},
     "output_type": "execute_result"
    }
   ],
   "source": [
    "agrupado = credito.groupby(['FiadorTerceiros']).size()\n",
    "agrupado"
   ]
  },
  {
   "cell_type": "code",
   "execution_count": 60,
   "metadata": {},
   "outputs": [
    {
     "data": {
      "text/plain": [
       "<Axes: xlabel='FiadorTerceiros'>"
      ]
     },
     "execution_count": 60,
     "metadata": {},
     "output_type": "execute_result"
    },
    {
     "data": {
      "image/png": "[encoded data removed]",
      "text/plain": [
       "<Figure size 640x480 with 1 Axes>"
      ]
     },
     "metadata": {},
     "output_type": "display_data"
    }
   ],
   "source": [
    "agrupado.plot.bar(color = 'gray')"
   ]
  },
  {
   "cell_type": "markdown",
   "metadata": {},
   "source": [
    "Proposito tem classes de 1 a 10."
   ]
  },
  {
   "cell_type": "code",
   "execution_count": 62,
   "metadata": {},
   "outputs": [
    {
     "data": {
      "text/plain": [
       "Proposito\n",
       "1     280\n",
       "2      50\n",
       "3     181\n",
       "4     234\n",
       "5     103\n",
       "6      97\n",
       "7      12\n",
       "8      22\n",
       "9      12\n",
       "10      9\n",
       "dtype: int64"
      ]
     },
     "execution_count": 62,
     "metadata": {},
     "output_type": "execute_result"
    }
   ],
   "source": [
    "agrupado = credito.groupby(['Proposito']).size()\n",
    "agrupado"
   ]
  },
  {
   "cell_type": "code",
   "execution_count": 63,
   "metadata": {},
   "outputs": [
    {
     "data": {
      "text/plain": [
       "<Axes: xlabel='Proposito'>"
      ]
     },
     "execution_count": 63,
     "metadata": {},
     "output_type": "execute_result"
    },
    {
     "data": {
      "image/png": "[encoded data removed]",
      "text/plain": [
       "<Figure size 640x480 with 1 Axes>"
      ]
     },
     "metadata": {},
     "output_type": "display_data"
    }
   ],
   "source": [
    "agrupado.plot.bar(color = 'gray')"
   ]
  },
  {
   "cell_type": "markdown",
   "metadata": {},
   "source": [
    "Emprego tem classes de 1 a 5."
   ]
  },
  {
   "cell_type": "code",
   "execution_count": 64,
   "metadata": {},
   "outputs": [
    {
     "data": {
      "text/plain": [
       "Emprego\n",
       "1.0    171\n",
       "2.0    247\n",
       "3.0    348\n",
       "4.0    172\n",
       "5.0     62\n",
       "dtype: int64"
      ]
     },
     "execution_count": 64,
     "metadata": {},
     "output_type": "execute_result"
    }
   ],
   "source": [
    "agrupado = credito.groupby(['Emprego']).size()\n",
    "agrupado"
   ]
  },
  {
   "cell_type": "code",
   "execution_count": 65,
   "metadata": {},
   "outputs": [
    {
     "data": {
      "text/plain": [
       "<Axes: xlabel='Emprego'>"
      ]
     },
     "execution_count": 65,
     "metadata": {},
     "output_type": "execute_result"
    },
    {
     "data": {
      "image/png": "[encoded data removed]",
      "text/plain": [
       "<Figure size 640x480 with 1 Axes>"
      ]
     },
     "metadata": {},
     "output_type": "display_data"
    }
   ],
   "source": [
    "agrupado.plot.bar(color = 'gray')"
   ]
  },
  {
   "cell_type": "markdown",
   "metadata": {},
   "source": [
    "EstadoCivil tem classes de 1 a 4."
   ]
  },
  {
   "cell_type": "code",
   "execution_count": 66,
   "metadata": {},
   "outputs": [
    {
     "data": {
      "text/plain": [
       "EstadoCivil\n",
       "1    310\n",
       "2     50\n",
       "3     92\n",
       "4    548\n",
       "dtype: int64"
      ]
     },
     "execution_count": 66,
     "metadata": {},
     "output_type": "execute_result"
    }
   ],
   "source": [
    "agrupado = credito.groupby(['EstadoCivil']).size()\n",
    "agrupado"
   ]
  },
  {
   "cell_type": "code",
   "execution_count": 67,
   "metadata": {},
   "outputs": [
    {
     "data": {
      "text/plain": [
       "<Axes: xlabel='EstadoCivil'>"
      ]
     },
     "execution_count": 67,
     "metadata": {},
     "output_type": "execute_result"
    },
    {
     "data": {
      "image/png": "[encoded data removed]",
      "text/plain": [
       "<Figure size 640x480 with 1 Axes>"
      ]
     },
     "metadata": {},
     "output_type": "display_data"
    }
   ],
   "source": [
    "agrupado.plot.bar(color = 'gray')"
   ]
  },
  {
   "cell_type": "markdown",
   "metadata": {},
   "source": [
    "Habitação tem classes de 1 a 3."
   ]
  },
  {
   "cell_type": "code",
   "execution_count": 68,
   "metadata": {},
   "outputs": [
    {
     "data": {
      "text/plain": [
       "Habitacao\n",
       "1.0    718\n",
       "2.0    107\n",
       "3.0    175\n",
       "dtype: int64"
      ]
     },
     "execution_count": 68,
     "metadata": {},
     "output_type": "execute_result"
    }
   ],
   "source": [
    "agrupado = credito.groupby(['Habitacao']).size()\n",
    "agrupado"
   ]
  },
  {
   "cell_type": "code",
   "execution_count": 69,
   "metadata": {},
   "outputs": [
    {
     "data": {
      "text/plain": [
       "<Axes: xlabel='Habitacao'>"
      ]
     },
     "execution_count": 69,
     "metadata": {},
     "output_type": "execute_result"
    },
    {
     "data": {
      "image/png": "[encoded data removed]",
      "text/plain": [
       "<Figure size 640x480 with 1 Axes>"
      ]
     },
     "metadata": {},
     "output_type": "display_data"
    }
   ],
   "source": [
    "agrupado.plot.bar(color = 'gray')"
   ]
  },
  {
   "cell_type": "markdown",
   "metadata": {},
   "source": [
    "Profissão tem classes de 1 a 4."
   ]
  },
  {
   "cell_type": "code",
   "execution_count": 70,
   "metadata": {},
   "outputs": [
    {
     "data": {
      "text/plain": [
       "Profissao\n",
       "1      147\n",
       "2       22\n",
       "3      197\n",
       "4      625\n",
       "999      9\n",
       "dtype: int64"
      ]
     },
     "execution_count": 70,
     "metadata": {},
     "output_type": "execute_result"
    }
   ],
   "source": [
    "agrupado = credito.groupby(['Profissao']).size()\n",
    "agrupado"
   ]
  },
  {
   "cell_type": "code",
   "execution_count": 71,
   "metadata": {},
   "outputs": [
    {
     "data": {
      "text/plain": [
       "<Axes: xlabel='Profissao'>"
      ]
     },
     "execution_count": 71,
     "metadata": {},
     "output_type": "execute_result"
    },
    {
     "data": {
      "image/png": "[encoded data removed]",
      "text/plain": [
       "<Figure size 640x480 with 1 Axes>"
      ]
     },
     "metadata": {},
     "output_type": "display_data"
    }
   ],
   "source": [
    "agrupado.plot.bar(color = 'gray')"
   ]
  },
  {
   "cell_type": "markdown",
   "metadata": {},
   "source": [
    "OutrosFinanciamentos tem classes de 1 a 3."
   ]
  },
  {
   "cell_type": "code",
   "execution_count": 72,
   "metadata": {},
   "outputs": [
    {
     "data": {
      "text/plain": [
       "OutrosFinanciamentos\n",
       "1    139\n",
       "2     47\n",
       "3    814\n",
       "dtype: int64"
      ]
     },
     "execution_count": 72,
     "metadata": {},
     "output_type": "execute_result"
    }
   ],
   "source": [
    "agrupado = credito.groupby(['OutrosFinanciamentos']).size()\n",
    "agrupado"
   ]
  },
  {
   "cell_type": "code",
   "execution_count": 73,
   "metadata": {},
   "outputs": [
    {
     "data": {
      "text/plain": [
       "<Axes: xlabel='OutrosFinanciamentos'>"
      ]
     },
     "execution_count": 73,
     "metadata": {},
     "output_type": "execute_result"
    },
    {
     "data": {
      "image/png": "[encoded data removed]",
      "text/plain": [
       "<Figure size 640x480 with 1 Axes>"
      ]
     },
     "metadata": {},
     "output_type": "display_data"
    }
   ],
   "source": [
    "agrupado.plot.bar(color = 'gray')"
   ]
  },
  {
   "cell_type": "markdown",
   "metadata": {},
   "source": [
    "---\n",
    "# Limpeza e tratamento dos dados"
   ]
  },
  {
   "cell_type": "markdown",
   "metadata": {},
   "source": [
    "#### Vamos começar pelos valores nulos"
   ]
  },
  {
   "cell_type": "code",
   "execution_count": 110,
   "metadata": {},
   "outputs": [
    {
     "name": "stdout",
     "output_type": "stream",
     "text": [
      "Valores nulos:\n",
      "IDCREDITO               0\n",
      "Duracao                 0\n",
      "HistoricoCredito        0\n",
      "Proposito               0\n",
      "Valor                   0\n",
      "Investimentos           0\n",
      "Emprego                 0\n",
      "TempoParcelamento       0\n",
      "EstadoCivil             0\n",
      "FiadorTerceiros         0\n",
      "ResidenciaDesde         0\n",
      "Idade                   0\n",
      "OutrosFinanciamentos    0\n",
      "Habitacao               0\n",
      "EmprestimoExistente     0\n",
      "Profissao               0\n",
      "Dependentes             0\n",
      "SocioEmpresa            0\n",
      "Estrangeiro             0\n",
      "Status                  0\n",
      "dtype: int64\n"
     ]
    }
   ],
   "source": [
    "print(\"Valores nulos:\")\n",
    "print(credito.isnull().sum())"
   ]
  },
  {
   "cell_type": "markdown",
   "metadata": {},
   "source": [
    "Habitação, ResidenciaDesde e Emprego são colunas que possuem valores nulos, vamos tratá-los!"
   ]
  },
  {
   "cell_type": "code",
   "execution_count": 41,
   "metadata": {},
   "outputs": [
    {
     "name": "stdout",
     "output_type": "stream",
     "text": [
      "Valores nulos:\n",
      "IDCREDITO               0\n",
      "Duracao                 0\n",
      "HistoricoCredito        0\n",
      "Proposito               0\n",
      "Valor                   0\n",
      "Investimentos           0\n",
      "Emprego                 0\n",
      "TempoParcelamento       0\n",
      "EstadoCivil             0\n",
      "FiadorTerceiros         0\n",
      "ResidenciaDesde         0\n",
      "Idade                   0\n",
      "OutrosFinanciamentos    0\n",
      "Habitacao               0\n",
      "EmprestimoExistente     0\n",
      "Profissao               0\n",
      "Dependentes             0\n",
      "SocioEmpresa            0\n",
      "Estrangeiro             0\n",
      "Status                  0\n",
      "dtype: int64\n"
     ]
    }
   ],
   "source": [
    "# Substituindo os valores pela moda\n",
    "\n",
    "moda = sts.mode(credito['Habitacao'])\n",
    "credito['Habitacao'].fillna(moda, inplace=True)\n",
    "\n",
    "moda = sts.mode(credito['ResidenciaDesde'])\n",
    "credito['ResidenciaDesde'].fillna(moda, inplace=True)\n",
    "\n",
    "moda = sts.mode(credito['Emprego'])\n",
    "credito['Emprego'].fillna(moda, inplace=True)\n",
    "\n",
    "# Verificando se ainda há valores nulos\n",
    "print(\"Valores nulos:\")\n",
    "print(credito.isnull().sum())"
   ]
  },
  {
   "cell_type": "markdown",
   "metadata": {},
   "source": [
    "#### Agora os valores fora do domínio das classes"
   ]
  },
  {
   "cell_type": "markdown",
   "metadata": {},
   "source": [
    "HistóricoCredito e Profissao posuem valores fora do domínio de valores possíveis para as classes, vamos tratá-los!"
   ]
  },
  {
   "cell_type": "code",
   "execution_count": 79,
   "metadata": {},
   "outputs": [
    {
     "name": "stdout",
     "output_type": "stream",
     "text": [
      "Antes do ajuste: \n",
      "HistoricoCredito\n",
      "1    289\n",
      "2    537\n",
      "3     86\n",
      "4     40\n",
      "5     48\n",
      "dtype: int64\n",
      "Profissao\n",
      "1    147\n",
      "2     22\n",
      "3    197\n",
      "4    634\n",
      "dtype: int64\n",
      "Depois do ajuste: \n",
      "HistoricoCredito\n",
      "1    289\n",
      "2    537\n",
      "3     86\n",
      "4     40\n",
      "5     48\n",
      "dtype: int64\n",
      "Profissao\n",
      "1    147\n",
      "2     22\n",
      "3    197\n",
      "4    634\n",
      "dtype: int64\n"
     ]
    }
   ],
   "source": [
    "print(\"Antes do ajuste: \")\n",
    "print(credito.groupby(['HistoricoCredito']).size())\n",
    "print(credito.groupby(['Profissao']).size())\n",
    "\n",
    "moda = sts.mode(credito['HistoricoCredito'])\n",
    "# credito['HistoricoCredito'].fillna(moda, inplace=True)\n",
    "credito.loc[credito['HistoricoCredito'] ==  0, 'HistoricoCredito'] = moda\n",
    "\n",
    "moda = sts.mode(credito['Profissao'])\n",
    "# credito['Profissao'].fillna(moda, inplace=True)\n",
    "credito.loc[credito['Profissao'] == 999 , 'Profissao'] = moda\n",
    "\n",
    "print(\"Depois do ajuste: \")\n",
    "print(credito.groupby(['HistoricoCredito']).size())\n",
    "print(credito.groupby(['Profissao']).size())"
   ]
  },
  {
   "cell_type": "markdown",
   "metadata": {},
   "source": [
    "---\n",
    "# Definindo o conjunto de variáveis dependentes e independentes"
   ]
  },
  {
   "cell_type": "markdown",
   "metadata": {},
   "source": [
    "Separando os atributos em classes dependentes e independentes"
   ]
  },
  {
   "cell_type": "code",
   "execution_count": 148,
   "metadata": {},
   "outputs": [],
   "source": [
    "y = credito.iloc[:, -1].values\n",
    "X = credito.iloc[:, 1:-1]"
   ]
  },
  {
   "cell_type": "markdown",
   "metadata": {},
   "source": [
    "Realizando uma seleção de atributos para separar os mais importantes para a definição do status"
   ]
  },
  {
   "cell_type": "code",
   "execution_count": 149,
   "metadata": {},
   "outputs": [
    {
     "name": "stdout",
     "output_type": "stream",
     "text": [
      "Posição: 1, Coluna: Duracao, Importância: 0.10119703364829682\n",
      "Posição: 4, Coluna: Valor, Importância: 0.10003780074438542\n",
      "Posição: 11, Coluna: Idade, Importância: 0.08915942122843044\n",
      "Posição: 2, Coluna: HistoricoCredito, Importância: 0.07932286710114082\n",
      "Posição: 3, Coluna: Proposito, Importância: 0.07256199002396513\n",
      "Posição: 6, Coluna: Emprego, Importância: 0.0682941549070448\n",
      "Posição: 10, Coluna: ResidenciaDesde, Importância: 0.06327572178432564\n",
      "Posição: 7, Coluna: TempoParcelamento, Importância: 0.0603026422128096\n",
      "Posição: 5, Coluna: Investimentos, Importância: 0.05776728457415774\n",
      "Posição: 8, Coluna: EstadoCivil, Importância: 0.049438530863899405\n",
      "Posição: 15, Coluna: Profissao, Importância: 0.04777463671261669\n",
      "Posição: 13, Coluna: Habitacao, Importância: 0.04113111533969275\n",
      "Posição: 14, Coluna: EmprestimoExistente, Importância: 0.0378283136295581\n",
      "Posição: 17, Coluna: SocioEmpresa, Importância: 0.034730559931533324\n",
      "Posição: 12, Coluna: OutrosFinanciamentos, Importância: 0.034181653258298424\n",
      "Posição: 9, Coluna: FiadorTerceiros, Importância: 0.029661973918019717\n",
      "Posição: 16, Coluna: Dependentes, Importância: 0.0253403989404545\n",
      "Posição: 18, Coluna: Estrangeiro, Importância: 0.007993901181370592\n"
     ]
    }
   ],
   "source": [
    "# Treinar o modelo de Extra Trees Classifier\n",
    "forest = ExtraTreesClassifier()\n",
    "forest.fit(X, y)\n",
    "\n",
    "# Obter as importâncias das features\n",
    "importancias = forest.feature_importances_\n",
    "\n",
    "# Obter os nomes das colunas\n",
    "nomes_colunas = credito.iloc[:, 1:-1].columns.tolist()\n",
    "\n",
    "# Combinar os nomes das colunas com os valores de importância e as posições das colunas\n",
    "importance_with_columns = list(zip(nomes_colunas, range(len(nomes_colunas)), importancias))\n",
    "\n",
    "# Ordenar a lista de importância com base nos valores (em ordem decrescente)\n",
    "importance_with_columns_sorted = sorted(importance_with_columns, key=lambda x: x[2], reverse=True)\n",
    "\n",
    "# Imprimir os resultados\n",
    "for column, position, importance in importance_with_columns_sorted:\n",
    "    print(f\"Posição: {position + 1}, Coluna: {column}, Importância: {importance}\")\n",
    "    \n",
    "# Irei selecionar as 11 colunas com maior importancia\n",
    "# 1, 4, 11, 2, 3, 6, 10, 5, 7, 8 e 15"
   ]
  },
  {
   "cell_type": "markdown",
   "metadata": {},
   "source": [
    "Criando os conjuntos de treino e teste 70/30"
   ]
  },
  {
   "cell_type": "code",
   "execution_count": 164,
   "metadata": {},
   "outputs": [
    {
     "data": {
      "text/plain": [
       "(700, 18)"
      ]
     },
     "execution_count": 164,
     "metadata": {},
     "output_type": "execute_result"
    }
   ],
   "source": [
    "X_treinamento, X_teste, y_treinamento, y_teste = train_test_split(X.values,\n",
    "                                                                  y,\n",
    "                                                                  test_size = 0.3,\n",
    "                                                                  random_state = 1)\n",
    "X_treinamento.shape"
   ]
  },
  {
   "cell_type": "code",
   "execution_count": 165,
   "metadata": {},
   "outputs": [
    {
     "data": {
      "text/plain": [
       "(700, 11)"
      ]
     },
     "execution_count": 165,
     "metadata": {},
     "output_type": "execute_result"
    }
   ],
   "source": [
    "X_treinamento2 = X_treinamento[:,[1, 2, 3, 4, 5, 6, 7, 8, 10, 11, 15]]\n",
    "X_teste2 = X_teste[:,[1, 2, 3, 4, 5, 6, 7, 8, 10, 11, 15]]\n",
    "X_treinamento2.shape"
   ]
  },
  {
   "cell_type": "markdown",
   "metadata": {},
   "source": [
    "Separando agora os atributos selecionados anteriormente."
   ]
  },
  {
   "cell_type": "markdown",
   "metadata": {},
   "source": [
    "---\n",
    "# Vamos iniciar a previsão e calcular a acurácia de cada modelo"
   ]
  },
  {
   "cell_type": "markdown",
   "metadata": {},
   "source": [
    "Utilizando Máquinas de Suporte de Vetor"
   ]
  },
  {
   "cell_type": "code",
   "execution_count": 152,
   "metadata": {},
   "outputs": [
    {
     "data": {
      "text/html": [
       "<style>#sk-container-id-1 {color: black;}#sk-container-id-1 pre{padding: 0;}#sk-container-id-1 div.sk-toggleable {background-color: white;}#sk-container-id-1 label.sk-toggleable__label {cursor: pointer;display: block;width: 100%;margin-bottom: 0;padding: 0.3em;box-sizing: border-box;text-align: center;}#sk-container-id-1 label.sk-toggleable__label-arrow:before {content: \"▸\";float: left;margin-right: 0.25em;color: #696969;}#sk-container-id-1 label.sk-toggleable__label-arrow:hover:before {color: black;}#sk-container-id-1 div.sk-estimator:hover label.sk-toggleable__label-arrow:before {color: black;}#sk-container-id-1 div.sk-toggleable__content {max-height: 0;max-width: 0;overflow: hidden;text-align: left;background-color: #f0f8ff;}#sk-container-id-1 div.sk-toggleable__content pre {margin: 0.2em;color: black;border-radius: 0.25em;background-color: #f0f8ff;}#sk-container-id-1 input.sk-toggleable__control:checked~div.sk-toggleable__content {max-height: 200px;max-width: 100%;overflow: auto;}#sk-container-id-1 input.sk-toggleable__control:checked~label.sk-toggleable__label-arrow:before {content: \"▾\";}#sk-container-id-1 div.sk-estimator input.sk-toggleable__control:checked~label.sk-toggleable__label {background-color: #d4ebff;}#sk-container-id-1 div.sk-label input.sk-toggleable__control:checked~label.sk-toggleable__label {background-color: #d4ebff;}#sk-container-id-1 input.sk-hidden--visually {border: 0;clip: rect(1px 1px 1px 1px);clip: rect(1px, 1px, 1px, 1px);height: 1px;margin: -1px;overflow: hidden;padding: 0;position: absolute;width: 1px;}#sk-container-id-1 div.sk-estimator {font-family: monospace;background-color: #f0f8ff;border: 1px dotted black;border-radius: 0.25em;box-sizing: border-box;margin-bottom: 0.5em;}#sk-container-id-1 div.sk-estimator:hover {background-color: #d4ebff;}#sk-container-id-1 div.sk-parallel-item::after {content: \"\";width: 100%;border-bottom: 1px solid gray;flex-grow: 1;}#sk-container-id-1 div.sk-label:hover label.sk-toggleable__label {background-color: #d4ebff;}#sk-container-id-1 div.sk-serial::before {content: \"\";position: absolute;border-left: 1px solid gray;box-sizing: border-box;top: 0;bottom: 0;left: 50%;z-index: 0;}#sk-container-id-1 div.sk-serial {display: flex;flex-direction: column;align-items: center;background-color: white;padding-right: 0.2em;padding-left: 0.2em;position: relative;}#sk-container-id-1 div.sk-item {position: relative;z-index: 1;}#sk-container-id-1 div.sk-parallel {display: flex;align-items: stretch;justify-content: center;background-color: white;position: relative;}#sk-container-id-1 div.sk-item::before, #sk-container-id-1 div.sk-parallel-item::before {content: \"\";position: absolute;border-left: 1px solid gray;box-sizing: border-box;top: 0;bottom: 0;left: 50%;z-index: -1;}#sk-container-id-1 div.sk-parallel-item {display: flex;flex-direction: column;z-index: 1;position: relative;background-color: white;}#sk-container-id-1 div.sk-parallel-item:first-child::after {align-self: flex-end;width: 50%;}#sk-container-id-1 div.sk-parallel-item:last-child::after {align-self: flex-start;width: 50%;}#sk-container-id-1 div.sk-parallel-item:only-child::after {width: 0;}#sk-container-id-1 div.sk-dashed-wrapped {border: 1px dashed gray;margin: 0 0.4em 0.5em 0.4em;box-sizing: border-box;padding-bottom: 0.4em;background-color: white;}#sk-container-id-1 div.sk-label label {font-family: monospace;font-weight: bold;display: inline-block;line-height: 1.2em;}#sk-container-id-1 div.sk-label-container {text-align: center;}#sk-container-id-1 div.sk-container {/* jupyter's `normalize.less` sets `[hidden] { display: none; }` but bootstrap.min.css set `[hidden] { display: none !important; }` so we also need the `!important` here to be able to override the default hidden behavior on the sphinx rendered scikit-learn.org. See: https://github.com/scikit-learn/scikit-learn/issues/21755 */display: inline-block !important;position: relative;}#sk-container-id-1 div.sk-text-repr-fallback {display: none;}</style><div id=\"sk-container-id-1\" class=\"sk-top-container\"><div class=\"sk-text-repr-fallback\"><pre>SVC()</pre><b>In a Jupyter environment, please rerun this cell to show the HTML representation or trust the notebook. <br />On GitHub, the HTML representation is unable to render, please try loading this page with nbviewer.org.</b></div><div class=\"sk-container\" hidden><div class=\"sk-item\"><div class=\"sk-estimator sk-toggleable\"><input class=\"sk-toggleable__control sk-hidden--visually\" id=\"sk-estimator-id-1\" type=\"checkbox\" checked><label for=\"sk-estimator-id-1\" class=\"sk-toggleable__label sk-toggleable__label-arrow\">SVC</label><div class=\"sk-toggleable__content\"><pre>SVC()</pre></div></div></div></div></div>"
      ],
      "text/plain": [
       "SVC()"
      ]
     },
     "execution_count": 152,
     "metadata": {},
     "output_type": "execute_result"
    }
   ],
   "source": [
    "svm = SVC()\n",
    "svm.fit(X_treinamento, y_treinamento)"
   ]
  },
  {
   "cell_type": "code",
   "execution_count": 153,
   "metadata": {},
   "outputs": [
    {
     "data": {
      "text/plain": [
       "array([1, 1, 1, 1, 1, 1, 0, 1, 1, 1, 1, 1, 1, 1, 1, 1, 1, 1, 1, 1, 1, 1,\n",
       "       1, 1, 1, 1, 1, 1, 1, 1, 1, 1, 0, 1, 1, 1, 1, 1, 1, 1, 1, 1, 1, 1,\n",
       "       1, 1, 1, 1, 1, 1, 1, 1, 1, 1, 1, 1, 1, 1, 1, 1, 1, 1, 1, 1, 1, 0,\n",
       "       1, 1, 1, 1, 1, 0, 1, 1, 1, 1, 1, 1, 1, 1, 1, 1, 1, 1, 1, 1, 1, 1,\n",
       "       1, 1, 1, 1, 1, 1, 1, 1, 1, 1, 1, 1, 1, 0, 1, 1, 1, 1, 1, 1, 1, 1,\n",
       "       1, 1, 1, 1, 1, 1, 1, 1, 1, 1, 1, 1, 1, 1, 1, 1, 1, 1, 1, 1, 1, 1,\n",
       "       1, 1, 1, 1, 1, 1, 1, 1, 1, 1, 1, 1, 1, 1, 1, 1, 1, 1, 1, 1, 1, 1,\n",
       "       1, 1, 1, 1, 1, 1, 1, 1, 1, 1, 1, 1, 1, 1, 1, 1, 1, 1, 1, 1, 1, 1,\n",
       "       1, 1, 1, 1, 1, 1, 1, 1, 1, 1, 1, 1, 1, 1, 1, 1, 1, 1, 1, 1, 1, 1,\n",
       "       1, 1, 1, 1, 1, 1, 1, 1, 1, 1, 1, 1, 1, 1, 1, 1, 1, 1, 1, 1, 1, 1,\n",
       "       1, 1, 1, 1, 1, 1, 1, 1, 1, 1, 0, 1, 0, 1, 1, 1, 1, 1, 1, 1, 1, 1,\n",
       "       1, 1, 1, 1, 1, 1, 1, 1, 1, 1, 1, 1, 1, 1, 1, 1, 1, 1, 1, 1, 1, 1,\n",
       "       1, 1, 1, 1, 1, 1, 1, 1, 1, 1, 0, 1, 1, 0, 1, 1, 1, 1, 1, 1, 1, 1,\n",
       "       1, 1, 1, 1, 1, 1, 1, 1, 1, 1, 1, 1, 1, 1], dtype=int64)"
      ]
     },
     "execution_count": 153,
     "metadata": {},
     "output_type": "execute_result"
    }
   ],
   "source": [
    "previsoes = svm.predict(X_teste)\n",
    "previsoes"
   ]
  },
  {
   "cell_type": "code",
   "execution_count": 157,
   "metadata": {},
   "outputs": [
    {
     "name": "stdout",
     "output_type": "stream",
     "text": [
      "Taxa de acerto: 0.7066666666666667 - Taxa de erro: 0.29333333333333333\n"
     ]
    }
   ],
   "source": [
    "taxa_acerto = accuracy_score(y_teste, previsoes)\n",
    "taxa_erro = 1 - taxa_acerto\n",
    "print(f\"Taxa de acerto: {taxa_acerto} - Taxa de erro: {taxa_erro}\")"
   ]
  },
  {
   "cell_type": "code",
   "execution_count": 158,
   "metadata": {},
   "outputs": [
    {
     "data": {
      "text/html": [
       "<style>#sk-container-id-2 {color: black;}#sk-container-id-2 pre{padding: 0;}#sk-container-id-2 div.sk-toggleable {background-color: white;}#sk-container-id-2 label.sk-toggleable__label {cursor: pointer;display: block;width: 100%;margin-bottom: 0;padding: 0.3em;box-sizing: border-box;text-align: center;}#sk-container-id-2 label.sk-toggleable__label-arrow:before {content: \"▸\";float: left;margin-right: 0.25em;color: #696969;}#sk-container-id-2 label.sk-toggleable__label-arrow:hover:before {color: black;}#sk-container-id-2 div.sk-estimator:hover label.sk-toggleable__label-arrow:before {color: black;}#sk-container-id-2 div.sk-toggleable__content {max-height: 0;max-width: 0;overflow: hidden;text-align: left;background-color: #f0f8ff;}#sk-container-id-2 div.sk-toggleable__content pre {margin: 0.2em;color: black;border-radius: 0.25em;background-color: #f0f8ff;}#sk-container-id-2 input.sk-toggleable__control:checked~div.sk-toggleable__content {max-height: 200px;max-width: 100%;overflow: auto;}#sk-container-id-2 input.sk-toggleable__control:checked~label.sk-toggleable__label-arrow:before {content: \"▾\";}#sk-container-id-2 div.sk-estimator input.sk-toggleable__control:checked~label.sk-toggleable__label {background-color: #d4ebff;}#sk-container-id-2 div.sk-label input.sk-toggleable__control:checked~label.sk-toggleable__label {background-color: #d4ebff;}#sk-container-id-2 input.sk-hidden--visually {border: 0;clip: rect(1px 1px 1px 1px);clip: rect(1px, 1px, 1px, 1px);height: 1px;margin: -1px;overflow: hidden;padding: 0;position: absolute;width: 1px;}#sk-container-id-2 div.sk-estimator {font-family: monospace;background-color: #f0f8ff;border: 1px dotted black;border-radius: 0.25em;box-sizing: border-box;margin-bottom: 0.5em;}#sk-container-id-2 div.sk-estimator:hover {background-color: #d4ebff;}#sk-container-id-2 div.sk-parallel-item::after {content: \"\";width: 100%;border-bottom: 1px solid gray;flex-grow: 1;}#sk-container-id-2 div.sk-label:hover label.sk-toggleable__label {background-color: #d4ebff;}#sk-container-id-2 div.sk-serial::before {content: \"\";position: absolute;border-left: 1px solid gray;box-sizing: border-box;top: 0;bottom: 0;left: 50%;z-index: 0;}#sk-container-id-2 div.sk-serial {display: flex;flex-direction: column;align-items: center;background-color: white;padding-right: 0.2em;padding-left: 0.2em;position: relative;}#sk-container-id-2 div.sk-item {position: relative;z-index: 1;}#sk-container-id-2 div.sk-parallel {display: flex;align-items: stretch;justify-content: center;background-color: white;position: relative;}#sk-container-id-2 div.sk-item::before, #sk-container-id-2 div.sk-parallel-item::before {content: \"\";position: absolute;border-left: 1px solid gray;box-sizing: border-box;top: 0;bottom: 0;left: 50%;z-index: -1;}#sk-container-id-2 div.sk-parallel-item {display: flex;flex-direction: column;z-index: 1;position: relative;background-color: white;}#sk-container-id-2 div.sk-parallel-item:first-child::after {align-self: flex-end;width: 50%;}#sk-container-id-2 div.sk-parallel-item:last-child::after {align-self: flex-start;width: 50%;}#sk-container-id-2 div.sk-parallel-item:only-child::after {width: 0;}#sk-container-id-2 div.sk-dashed-wrapped {border: 1px dashed gray;margin: 0 0.4em 0.5em 0.4em;box-sizing: border-box;padding-bottom: 0.4em;background-color: white;}#sk-container-id-2 div.sk-label label {font-family: monospace;font-weight: bold;display: inline-block;line-height: 1.2em;}#sk-container-id-2 div.sk-label-container {text-align: center;}#sk-container-id-2 div.sk-container {/* jupyter's `normalize.less` sets `[hidden] { display: none; }` but bootstrap.min.css set `[hidden] { display: none !important; }` so we also need the `!important` here to be able to override the default hidden behavior on the sphinx rendered scikit-learn.org. See: https://github.com/scikit-learn/scikit-learn/issues/21755 */display: inline-block !important;position: relative;}#sk-container-id-2 div.sk-text-repr-fallback {display: none;}</style><div id=\"sk-container-id-2\" class=\"sk-top-container\"><div class=\"sk-text-repr-fallback\"><pre>SVC()</pre><b>In a Jupyter environment, please rerun this cell to show the HTML representation or trust the notebook. <br />On GitHub, the HTML representation is unable to render, please try loading this page with nbviewer.org.</b></div><div class=\"sk-container\" hidden><div class=\"sk-item\"><div class=\"sk-estimator sk-toggleable\"><input class=\"sk-toggleable__control sk-hidden--visually\" id=\"sk-estimator-id-2\" type=\"checkbox\" checked><label for=\"sk-estimator-id-2\" class=\"sk-toggleable__label sk-toggleable__label-arrow\">SVC</label><div class=\"sk-toggleable__content\"><pre>SVC()</pre></div></div></div></div></div>"
      ],
      "text/plain": [
       "SVC()"
      ]
     },
     "execution_count": 158,
     "metadata": {},
     "output_type": "execute_result"
    }
   ],
   "source": [
    "svm.fit(X_treinamento2, y_treinamento)"
   ]
  },
  {
   "cell_type": "code",
   "execution_count": 159,
   "metadata": {},
   "outputs": [
    {
     "data": {
      "text/plain": [
       "array([1, 1, 1, 1, 1, 1, 0, 1, 1, 1, 1, 1, 1, 1, 1, 1, 1, 1, 1, 1, 1, 1,\n",
       "       1, 1, 1, 1, 1, 1, 1, 1, 1, 1, 0, 1, 1, 1, 1, 1, 1, 1, 1, 1, 1, 1,\n",
       "       1, 1, 1, 1, 1, 1, 1, 1, 1, 1, 1, 1, 1, 1, 1, 1, 1, 1, 1, 1, 1, 0,\n",
       "       1, 1, 1, 1, 1, 0, 1, 1, 1, 1, 1, 1, 1, 1, 1, 1, 1, 1, 1, 1, 1, 1,\n",
       "       1, 1, 1, 1, 1, 1, 1, 1, 1, 1, 1, 1, 1, 0, 1, 1, 1, 1, 1, 1, 1, 1,\n",
       "       1, 1, 1, 1, 1, 1, 1, 1, 1, 1, 1, 1, 1, 1, 1, 1, 1, 1, 1, 1, 1, 1,\n",
       "       1, 1, 1, 1, 1, 1, 1, 1, 1, 1, 1, 1, 1, 1, 1, 1, 1, 1, 1, 1, 1, 1,\n",
       "       1, 1, 1, 1, 1, 1, 1, 1, 1, 1, 1, 1, 1, 1, 1, 1, 1, 1, 1, 1, 1, 1,\n",
       "       1, 1, 1, 1, 1, 1, 1, 1, 1, 1, 1, 1, 1, 1, 1, 1, 1, 1, 1, 1, 1, 1,\n",
       "       1, 1, 1, 1, 1, 1, 1, 1, 1, 1, 1, 1, 1, 1, 1, 1, 1, 1, 1, 1, 1, 1,\n",
       "       1, 1, 1, 1, 1, 1, 1, 1, 1, 1, 0, 1, 0, 1, 1, 1, 1, 1, 1, 1, 1, 1,\n",
       "       1, 1, 1, 1, 1, 1, 1, 1, 1, 1, 1, 1, 1, 1, 1, 1, 1, 1, 1, 1, 1, 1,\n",
       "       1, 1, 1, 1, 1, 1, 1, 1, 1, 1, 0, 1, 1, 0, 1, 1, 1, 1, 1, 1, 1, 1,\n",
       "       1, 1, 1, 1, 1, 1, 1, 1, 1, 1, 1, 1, 1, 1], dtype=int64)"
      ]
     },
     "execution_count": 159,
     "metadata": {},
     "output_type": "execute_result"
    }
   ],
   "source": [
    "previsoes = svm.predict(X_teste2)\n",
    "previsoes"
   ]
  },
  {
   "cell_type": "code",
   "execution_count": 160,
   "metadata": {},
   "outputs": [
    {
     "name": "stdout",
     "output_type": "stream",
     "text": [
      "Taxa de acerto: 0.7066666666666667 - Taxa de erro: 0.29333333333333333\n"
     ]
    }
   ],
   "source": [
    "taxa_acerto = accuracy_score(y_teste, previsoes)\n",
    "taxa_erro = 1 - taxa_acerto\n",
    "print(f\"Taxa de acerto: {taxa_acerto} - Taxa de erro: {taxa_erro}\")"
   ]
  },
  {
   "cell_type": "markdown",
   "metadata": {},
   "source": [
    "Utilizando Naive Bayes"
   ]
  },
  {
   "cell_type": "code",
   "execution_count": 168,
   "metadata": {},
   "outputs": [
    {
     "data": {
      "text/html": [
       "<style>#sk-container-id-3 {color: black;}#sk-container-id-3 pre{padding: 0;}#sk-container-id-3 div.sk-toggleable {background-color: white;}#sk-container-id-3 label.sk-toggleable__label {cursor: pointer;display: block;width: 100%;margin-bottom: 0;padding: 0.3em;box-sizing: border-box;text-align: center;}#sk-container-id-3 label.sk-toggleable__label-arrow:before {content: \"▸\";float: left;margin-right: 0.25em;color: #696969;}#sk-container-id-3 label.sk-toggleable__label-arrow:hover:before {color: black;}#sk-container-id-3 div.sk-estimator:hover label.sk-toggleable__label-arrow:before {color: black;}#sk-container-id-3 div.sk-toggleable__content {max-height: 0;max-width: 0;overflow: hidden;text-align: left;background-color: #f0f8ff;}#sk-container-id-3 div.sk-toggleable__content pre {margin: 0.2em;color: black;border-radius: 0.25em;background-color: #f0f8ff;}#sk-container-id-3 input.sk-toggleable__control:checked~div.sk-toggleable__content {max-height: 200px;max-width: 100%;overflow: auto;}#sk-container-id-3 input.sk-toggleable__control:checked~label.sk-toggleable__label-arrow:before {content: \"▾\";}#sk-container-id-3 div.sk-estimator input.sk-toggleable__control:checked~label.sk-toggleable__label {background-color: #d4ebff;}#sk-container-id-3 div.sk-label input.sk-toggleable__control:checked~label.sk-toggleable__label {background-color: #d4ebff;}#sk-container-id-3 input.sk-hidden--visually {border: 0;clip: rect(1px 1px 1px 1px);clip: rect(1px, 1px, 1px, 1px);height: 1px;margin: -1px;overflow: hidden;padding: 0;position: absolute;width: 1px;}#sk-container-id-3 div.sk-estimator {font-family: monospace;background-color: #f0f8ff;border: 1px dotted black;border-radius: 0.25em;box-sizing: border-box;margin-bottom: 0.5em;}#sk-container-id-3 div.sk-estimator:hover {background-color: #d4ebff;}#sk-container-id-3 div.sk-parallel-item::after {content: \"\";width: 100%;border-bottom: 1px solid gray;flex-grow: 1;}#sk-container-id-3 div.sk-label:hover label.sk-toggleable__label {background-color: #d4ebff;}#sk-container-id-3 div.sk-serial::before {content: \"\";position: absolute;border-left: 1px solid gray;box-sizing: border-box;top: 0;bottom: 0;left: 50%;z-index: 0;}#sk-container-id-3 div.sk-serial {display: flex;flex-direction: column;align-items: center;background-color: white;padding-right: 0.2em;padding-left: 0.2em;position: relative;}#sk-container-id-3 div.sk-item {position: relative;z-index: 1;}#sk-container-id-3 div.sk-parallel {display: flex;align-items: stretch;justify-content: center;background-color: white;position: relative;}#sk-container-id-3 div.sk-item::before, #sk-container-id-3 div.sk-parallel-item::before {content: \"\";position: absolute;border-left: 1px solid gray;box-sizing: border-box;top: 0;bottom: 0;left: 50%;z-index: -1;}#sk-container-id-3 div.sk-parallel-item {display: flex;flex-direction: column;z-index: 1;position: relative;background-color: white;}#sk-container-id-3 div.sk-parallel-item:first-child::after {align-self: flex-end;width: 50%;}#sk-container-id-3 div.sk-parallel-item:last-child::after {align-self: flex-start;width: 50%;}#sk-container-id-3 div.sk-parallel-item:only-child::after {width: 0;}#sk-container-id-3 div.sk-dashed-wrapped {border: 1px dashed gray;margin: 0 0.4em 0.5em 0.4em;box-sizing: border-box;padding-bottom: 0.4em;background-color: white;}#sk-container-id-3 div.sk-label label {font-family: monospace;font-weight: bold;display: inline-block;line-height: 1.2em;}#sk-container-id-3 div.sk-label-container {text-align: center;}#sk-container-id-3 div.sk-container {/* jupyter's `normalize.less` sets `[hidden] { display: none; }` but bootstrap.min.css set `[hidden] { display: none !important; }` so we also need the `!important` here to be able to override the default hidden behavior on the sphinx rendered scikit-learn.org. See: https://github.com/scikit-learn/scikit-learn/issues/21755 */display: inline-block !important;position: relative;}#sk-container-id-3 div.sk-text-repr-fallback {display: none;}</style><div id=\"sk-container-id-3\" class=\"sk-top-container\"><div class=\"sk-text-repr-fallback\"><pre>GaussianNB()</pre><b>In a Jupyter environment, please rerun this cell to show the HTML representation or trust the notebook. <br />On GitHub, the HTML representation is unable to render, please try loading this page with nbviewer.org.</b></div><div class=\"sk-container\" hidden><div class=\"sk-item\"><div class=\"sk-estimator sk-toggleable\"><input class=\"sk-toggleable__control sk-hidden--visually\" id=\"sk-estimator-id-3\" type=\"checkbox\" checked><label for=\"sk-estimator-id-3\" class=\"sk-toggleable__label sk-toggleable__label-arrow\">GaussianNB</label><div class=\"sk-toggleable__content\"><pre>GaussianNB()</pre></div></div></div></div></div>"
      ],
      "text/plain": [
       "GaussianNB()"
      ]
     },
     "execution_count": 168,
     "metadata": {},
     "output_type": "execute_result"
    }
   ],
   "source": [
    "naive_bayes = GaussianNB()\n",
    "naive_bayes.fit(X_treinamento, y_treinamento)"
   ]
  },
  {
   "cell_type": "code",
   "execution_count": 169,
   "metadata": {},
   "outputs": [
    {
     "data": {
      "text/plain": [
       "array([0, 1, 1, 1, 1, 1, 0, 1, 1, 0, 1, 1, 1, 1, 1, 1, 0, 1, 0, 1, 0, 1,\n",
       "       1, 0, 1, 1, 1, 1, 0, 1, 1, 0, 0, 0, 0, 1, 1, 1, 1, 1, 1, 1, 1, 1,\n",
       "       1, 1, 0, 1, 0, 0, 1, 0, 1, 1, 0, 0, 1, 1, 1, 1, 1, 1, 1, 1, 1, 0,\n",
       "       0, 1, 1, 1, 1, 0, 1, 0, 1, 1, 1, 1, 1, 1, 1, 1, 1, 1, 1, 0, 1, 0,\n",
       "       1, 1, 1, 1, 1, 1, 1, 1, 0, 1, 1, 1, 1, 0, 1, 1, 1, 1, 1, 1, 1, 0,\n",
       "       1, 0, 0, 1, 0, 1, 0, 1, 1, 0, 1, 1, 1, 1, 1, 1, 1, 1, 1, 1, 1, 0,\n",
       "       0, 0, 1, 0, 1, 1, 1, 0, 0, 1, 1, 1, 1, 0, 1, 1, 0, 1, 1, 1, 1, 1,\n",
       "       1, 0, 1, 0, 1, 1, 1, 0, 0, 1, 1, 1, 1, 1, 1, 0, 1, 1, 1, 1, 0, 1,\n",
       "       0, 1, 1, 1, 1, 1, 1, 1, 1, 1, 1, 1, 1, 1, 1, 1, 0, 1, 1, 1, 0, 1,\n",
       "       1, 1, 1, 1, 1, 0, 1, 1, 1, 1, 1, 1, 1, 0, 1, 0, 1, 1, 1, 1, 0, 1,\n",
       "       1, 1, 0, 1, 1, 1, 0, 1, 1, 1, 0, 1, 0, 0, 0, 1, 1, 1, 0, 0, 1, 1,\n",
       "       1, 0, 0, 1, 0, 1, 1, 0, 1, 1, 1, 1, 1, 0, 0, 1, 0, 0, 1, 1, 1, 1,\n",
       "       1, 1, 1, 0, 1, 1, 1, 1, 1, 1, 0, 1, 1, 0, 1, 1, 1, 1, 1, 0, 1, 1,\n",
       "       1, 0, 1, 1, 0, 1, 0, 1, 1, 1, 1, 0, 1, 1], dtype=int64)"
      ]
     },
     "execution_count": 169,
     "metadata": {},
     "output_type": "execute_result"
    }
   ],
   "source": [
    "previsoes = naive_bayes.predict(X_teste)\n",
    "previsoes"
   ]
  },
  {
   "cell_type": "code",
   "execution_count": 171,
   "metadata": {},
   "outputs": [
    {
     "data": {
      "text/plain": [
       "array([[ 37,  52],\n",
       "       [ 40, 171]], dtype=int64)"
      ]
     },
     "execution_count": 171,
     "metadata": {},
     "output_type": "execute_result"
    }
   ],
   "source": [
    "confusao = confusion_matrix(y_teste, previsoes)\n",
    "confusao"
   ]
  },
  {
   "cell_type": "code",
   "execution_count": 172,
   "metadata": {},
   "outputs": [
    {
     "name": "stdout",
     "output_type": "stream",
     "text": [
      "Taxa de acerto: 0.6933333333333334 - Taxa de erro: 0.30666666666666664\n"
     ]
    }
   ],
   "source": [
    "taxa_acerto = accuracy_score(y_teste, previsoes)\n",
    "taxa_erro = 1 - taxa_acerto\n",
    "print(f\"Taxa de acerto: {taxa_acerto} - Taxa de erro: {taxa_erro}\")"
   ]
  },
  {
   "cell_type": "markdown",
   "metadata": {},
   "source": [
    "Utilizando K-Vizinhos mais próximos"
   ]
  },
  {
   "cell_type": "code",
   "execution_count": 174,
   "metadata": {},
   "outputs": [
    {
     "data": {
      "text/html": [
       "<style>#sk-container-id-4 {color: black;}#sk-container-id-4 pre{padding: 0;}#sk-container-id-4 div.sk-toggleable {background-color: white;}#sk-container-id-4 label.sk-toggleable__label {cursor: pointer;display: block;width: 100%;margin-bottom: 0;padding: 0.3em;box-sizing: border-box;text-align: center;}#sk-container-id-4 label.sk-toggleable__label-arrow:before {content: \"▸\";float: left;margin-right: 0.25em;color: #696969;}#sk-container-id-4 label.sk-toggleable__label-arrow:hover:before {color: black;}#sk-container-id-4 div.sk-estimator:hover label.sk-toggleable__label-arrow:before {color: black;}#sk-container-id-4 div.sk-toggleable__content {max-height: 0;max-width: 0;overflow: hidden;text-align: left;background-color: #f0f8ff;}#sk-container-id-4 div.sk-toggleable__content pre {margin: 0.2em;color: black;border-radius: 0.25em;background-color: #f0f8ff;}#sk-container-id-4 input.sk-toggleable__control:checked~div.sk-toggleable__content {max-height: 200px;max-width: 100%;overflow: auto;}#sk-container-id-4 input.sk-toggleable__control:checked~label.sk-toggleable__label-arrow:before {content: \"▾\";}#sk-container-id-4 div.sk-estimator input.sk-toggleable__control:checked~label.sk-toggleable__label {background-color: #d4ebff;}#sk-container-id-4 div.sk-label input.sk-toggleable__control:checked~label.sk-toggleable__label {background-color: #d4ebff;}#sk-container-id-4 input.sk-hidden--visually {border: 0;clip: rect(1px 1px 1px 1px);clip: rect(1px, 1px, 1px, 1px);height: 1px;margin: -1px;overflow: hidden;padding: 0;position: absolute;width: 1px;}#sk-container-id-4 div.sk-estimator {font-family: monospace;background-color: #f0f8ff;border: 1px dotted black;border-radius: 0.25em;box-sizing: border-box;margin-bottom: 0.5em;}#sk-container-id-4 div.sk-estimator:hover {background-color: #d4ebff;}#sk-container-id-4 div.sk-parallel-item::after {content: \"\";width: 100%;border-bottom: 1px solid gray;flex-grow: 1;}#sk-container-id-4 div.sk-label:hover label.sk-toggleable__label {background-color: #d4ebff;}#sk-container-id-4 div.sk-serial::before {content: \"\";position: absolute;border-left: 1px solid gray;box-sizing: border-box;top: 0;bottom: 0;left: 50%;z-index: 0;}#sk-container-id-4 div.sk-serial {display: flex;flex-direction: column;align-items: center;background-color: white;padding-right: 0.2em;padding-left: 0.2em;position: relative;}#sk-container-id-4 div.sk-item {position: relative;z-index: 1;}#sk-container-id-4 div.sk-parallel {display: flex;align-items: stretch;justify-content: center;background-color: white;position: relative;}#sk-container-id-4 div.sk-item::before, #sk-container-id-4 div.sk-parallel-item::before {content: \"\";position: absolute;border-left: 1px solid gray;box-sizing: border-box;top: 0;bottom: 0;left: 50%;z-index: -1;}#sk-container-id-4 div.sk-parallel-item {display: flex;flex-direction: column;z-index: 1;position: relative;background-color: white;}#sk-container-id-4 div.sk-parallel-item:first-child::after {align-self: flex-end;width: 50%;}#sk-container-id-4 div.sk-parallel-item:last-child::after {align-self: flex-start;width: 50%;}#sk-container-id-4 div.sk-parallel-item:only-child::after {width: 0;}#sk-container-id-4 div.sk-dashed-wrapped {border: 1px dashed gray;margin: 0 0.4em 0.5em 0.4em;box-sizing: border-box;padding-bottom: 0.4em;background-color: white;}#sk-container-id-4 div.sk-label label {font-family: monospace;font-weight: bold;display: inline-block;line-height: 1.2em;}#sk-container-id-4 div.sk-label-container {text-align: center;}#sk-container-id-4 div.sk-container {/* jupyter's `normalize.less` sets `[hidden] { display: none; }` but bootstrap.min.css set `[hidden] { display: none !important; }` so we also need the `!important` here to be able to override the default hidden behavior on the sphinx rendered scikit-learn.org. See: https://github.com/scikit-learn/scikit-learn/issues/21755 */display: inline-block !important;position: relative;}#sk-container-id-4 div.sk-text-repr-fallback {display: none;}</style><div id=\"sk-container-id-4\" class=\"sk-top-container\"><div class=\"sk-text-repr-fallback\"><pre>KNeighborsClassifier(n_neighbors=2)</pre><b>In a Jupyter environment, please rerun this cell to show the HTML representation or trust the notebook. <br />On GitHub, the HTML representation is unable to render, please try loading this page with nbviewer.org.</b></div><div class=\"sk-container\" hidden><div class=\"sk-item\"><div class=\"sk-estimator sk-toggleable\"><input class=\"sk-toggleable__control sk-hidden--visually\" id=\"sk-estimator-id-4\" type=\"checkbox\" checked><label for=\"sk-estimator-id-4\" class=\"sk-toggleable__label sk-toggleable__label-arrow\">KNeighborsClassifier</label><div class=\"sk-toggleable__content\"><pre>KNeighborsClassifier(n_neighbors=2)</pre></div></div></div></div></div>"
      ],
      "text/plain": [
       "KNeighborsClassifier(n_neighbors=2)"
      ]
     },
     "execution_count": 174,
     "metadata": {},
     "output_type": "execute_result"
    }
   ],
   "source": [
    "knn = KNeighborsClassifier(n_neighbors = 2)\n",
    "knn.fit(X_treinamento, y_treinamento)"
   ]
  },
  {
   "cell_type": "code",
   "execution_count": 175,
   "metadata": {},
   "outputs": [
    {
     "data": {
      "text/plain": [
       "array([1, 0, 1, 1, 1, 0, 0, 1, 0, 0, 1, 1, 0, 1, 0, 1, 0, 1, 0, 1, 1, 1,\n",
       "       1, 1, 0, 1, 0, 1, 0, 0, 0, 0, 0, 1, 1, 1, 1, 0, 0, 1, 1, 0, 1, 1,\n",
       "       1, 1, 1, 1, 1, 0, 1, 1, 0, 1, 1, 1, 1, 0, 0, 0, 1, 0, 0, 1, 0, 0,\n",
       "       0, 0, 1, 1, 1, 0, 1, 0, 1, 0, 1, 1, 1, 0, 0, 1, 1, 0, 0, 1, 0, 1,\n",
       "       1, 0, 1, 0, 1, 1, 1, 1, 1, 1, 0, 1, 0, 0, 0, 0, 1, 0, 0, 0, 0, 1,\n",
       "       0, 0, 1, 1, 0, 1, 0, 1, 0, 0, 1, 1, 0, 1, 1, 0, 0, 1, 0, 1, 0, 1,\n",
       "       1, 0, 1, 0, 0, 1, 0, 0, 0, 0, 1, 1, 1, 1, 1, 1, 0, 0, 1, 0, 1, 1,\n",
       "       0, 1, 0, 0, 1, 1, 0, 1, 0, 1, 0, 1, 0, 0, 1, 1, 1, 0, 1, 1, 0, 0,\n",
       "       0, 1, 0, 1, 0, 1, 0, 0, 1, 1, 0, 0, 0, 1, 1, 0, 1, 1, 1, 1, 1, 1,\n",
       "       0, 0, 1, 0, 0, 1, 1, 0, 1, 1, 0, 0, 1, 1, 0, 1, 0, 0, 1, 0, 1, 0,\n",
       "       1, 1, 1, 1, 0, 0, 0, 1, 0, 0, 0, 1, 0, 1, 1, 0, 0, 1, 0, 0, 1, 1,\n",
       "       1, 1, 1, 0, 0, 1, 1, 0, 0, 0, 0, 0, 0, 1, 1, 1, 1, 1, 1, 0, 1, 0,\n",
       "       0, 1, 0, 1, 1, 0, 0, 1, 1, 1, 0, 0, 1, 0, 0, 1, 1, 1, 1, 1, 0, 1,\n",
       "       0, 1, 0, 1, 0, 1, 0, 0, 0, 0, 1, 1, 1, 0], dtype=int64)"
      ]
     },
     "execution_count": 175,
     "metadata": {},
     "output_type": "execute_result"
    }
   ],
   "source": [
    "previsoes = knn.predict(X_teste)\n",
    "previsoes"
   ]
  },
  {
   "cell_type": "code",
   "execution_count": 176,
   "metadata": {},
   "outputs": [
    {
     "data": {
      "text/plain": [
       "array([[ 51,  38],\n",
       "       [ 89, 122]], dtype=int64)"
      ]
     },
     "execution_count": 176,
     "metadata": {},
     "output_type": "execute_result"
    }
   ],
   "source": [
    "confusao = confusion_matrix(y_teste, previsoes)\n",
    "confusao"
   ]
  },
  {
   "cell_type": "code",
   "execution_count": 177,
   "metadata": {},
   "outputs": [
    {
     "name": "stdout",
     "output_type": "stream",
     "text": [
      "Taxa de acerto: 0.5766666666666667 - Taxa de erro: 0.42333333333333334\n"
     ]
    }
   ],
   "source": [
    "taxa_acerto = accuracy_score(y_teste, previsoes)\n",
    "taxa_erro = 1 - taxa_acerto\n",
    "print(f\"Taxa de acerto: {taxa_acerto} - Taxa de erro: {taxa_erro}\")"
   ]
  },
  {
   "cell_type": "markdown",
   "metadata": {},
   "source": [
    "A melhor taxa de acerto obtida foi com o modelo de SVM. Então, vamos gerar um classificador para ele realizar previsões futuras."
   ]
  },
  {
   "cell_type": "code",
   "execution_count": null,
   "metadata": {},
   "outputs": [],
   "source": [
    "modelo = SVC()\n",
    "modelo.fit(X_treinamento2, y_treinamento)\n",
    "\n",
    "# previsoes = modelo.predict(\"X_teste\")\n",
    "# previsoes\n",
    "\n",
    "# taxa_acerto = accuracy_score(\"y_teste\", previsoes)\n",
    "# taxa_erro = 1 - taxa_acerto\n",
    "# print(f\"Taxa de acerto: {taxa_acerto} - Taxa de erro: {taxa_erro}\")"
   ]
  }
 ],
 "metadata": {
  "kernelspec": {
   "display_name": "base",
   "language": "python",
   "name": "python3"
  },
  "language_info": {
   "codemirror_mode": {
    "name": "ipython",
    "version": 3
   },
   "file_extension": ".py",
   "mimetype": "text/x-python",
   "name": "python",
   "nbconvert_exporter": "python",
   "pygments_lexer": "ipython3",
   "version": "3.11.5"
  }
 },
 "nbformat": 4,
 "nbformat_minor": 2
}
